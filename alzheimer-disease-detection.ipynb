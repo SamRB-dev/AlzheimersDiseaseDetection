{
 "cells": [
  {
   "cell_type": "code",
   "execution_count": 1,
   "id": "af46e250",
   "metadata": {
    "_cell_guid": "b1076dfc-b9ad-4769-8c92-a6c4dae69d19",
    "_uuid": "8f2839f25d086af736a60e9eeb907d3b93b6e0e5",
    "execution": {
     "iopub.execute_input": "2025-02-20T09:13:40.161848Z",
     "iopub.status.busy": "2025-02-20T09:13:40.161407Z",
     "iopub.status.idle": "2025-02-20T09:14:06.389961Z",
     "shell.execute_reply": "2025-02-20T09:14:06.388325Z"
    },
    "papermill": {
     "duration": 26.242055,
     "end_time": "2025-02-20T09:14:06.392147",
     "exception": false,
     "start_time": "2025-02-20T09:13:40.150092",
     "status": "completed"
    },
    "tags": []
   },
   "outputs": [
    {
     "name": "stdout",
     "output_type": "stream",
     "text": [
      "/kaggle/input/alzheimers-disease-dataset/alzheimers_disease_data.csv\n"
     ]
    }
   ],
   "source": [
    "import numpy as np # linear algebra\n",
    "import pandas as pd # data processing, CSV file I/O (e.g. pd.read_csv)\n",
    "import seaborn as sns\n",
    "import matplotlib.pyplot as plt\n",
    "from ydata_profiling import ProfileReport\n",
    "from sklearn.model_selection import train_test_split\n",
    "from sklearn.metrics import accuracy_score, confusion_matrix, classification_report\n",
    "import tensorflow as tf\n",
    "from tensorflow import keras\n",
    "# Input data files are available in the read-only \"../input/\" directory\n",
    "# For example, running this (by clicking run or pressing Shift+Enter) will list all files under the input directory\n",
    "\n",
    "import os\n",
    "for dirname, _, filenames in os.walk('/kaggle/input'):\n",
    "    for filename in filenames:\n",
    "        print(os.path.join(dirname, filename))\n",
    "\n",
    "# You can write up to 20GB to the current directory (/kaggle/working/) that gets preserved as output when you create a version using \"Save & Run All\" \n",
    "# You can also write temporary files to /kaggle/temp/, but they won't be saved outside of the current session"
   ]
  },
  {
   "cell_type": "markdown",
   "id": "aa1e00f9",
   "metadata": {
    "papermill": {
     "duration": 0.00919,
     "end_time": "2025-02-20T09:14:06.411267",
     "exception": false,
     "start_time": "2025-02-20T09:14:06.402077",
     "status": "completed"
    },
    "tags": []
   },
   "source": [
    "# Load Data"
   ]
  },
  {
   "cell_type": "code",
   "execution_count": 2,
   "id": "b2225f9e",
   "metadata": {
    "execution": {
     "iopub.execute_input": "2025-02-20T09:14:06.432716Z",
     "iopub.status.busy": "2025-02-20T09:14:06.431675Z",
     "iopub.status.idle": "2025-02-20T09:14:06.479235Z",
     "shell.execute_reply": "2025-02-20T09:14:06.477288Z"
    },
    "papermill": {
     "duration": 0.061249,
     "end_time": "2025-02-20T09:14:06.481955",
     "exception": false,
     "start_time": "2025-02-20T09:14:06.420706",
     "status": "completed"
    },
    "tags": []
   },
   "outputs": [],
   "source": [
    "path = \"/kaggle/input/alzheimers-disease-dataset/alzheimers_disease_data.csv\"\n",
    "df = pd.read_csv(path)"
   ]
  },
  {
   "cell_type": "markdown",
   "id": "c380e5ec",
   "metadata": {
    "papermill": {
     "duration": 0.009998,
     "end_time": "2025-02-20T09:14:06.502174",
     "exception": false,
     "start_time": "2025-02-20T09:14:06.492176",
     "status": "completed"
    },
    "tags": []
   },
   "source": [
    "## Some Sample"
   ]
  },
  {
   "cell_type": "code",
   "execution_count": 3,
   "id": "1f9bf865",
   "metadata": {
    "execution": {
     "iopub.execute_input": "2025-02-20T09:14:06.525193Z",
     "iopub.status.busy": "2025-02-20T09:14:06.524654Z",
     "iopub.status.idle": "2025-02-20T09:14:06.581420Z",
     "shell.execute_reply": "2025-02-20T09:14:06.579893Z"
    },
    "papermill": {
     "duration": 0.070221,
     "end_time": "2025-02-20T09:14:06.583660",
     "exception": false,
     "start_time": "2025-02-20T09:14:06.513439",
     "status": "completed"
    },
    "tags": []
   },
   "outputs": [
    {
     "data": {
      "text/html": [
       "<div>\n",
       "<style scoped>\n",
       "    .dataframe tbody tr th:only-of-type {\n",
       "        vertical-align: middle;\n",
       "    }\n",
       "\n",
       "    .dataframe tbody tr th {\n",
       "        vertical-align: top;\n",
       "    }\n",
       "\n",
       "    .dataframe thead th {\n",
       "        text-align: right;\n",
       "    }\n",
       "</style>\n",
       "<table border=\"1\" class=\"dataframe\">\n",
       "  <thead>\n",
       "    <tr style=\"text-align: right;\">\n",
       "      <th></th>\n",
       "      <th>PatientID</th>\n",
       "      <th>Age</th>\n",
       "      <th>Gender</th>\n",
       "      <th>Ethnicity</th>\n",
       "      <th>EducationLevel</th>\n",
       "      <th>BMI</th>\n",
       "      <th>Smoking</th>\n",
       "      <th>AlcoholConsumption</th>\n",
       "      <th>PhysicalActivity</th>\n",
       "      <th>DietQuality</th>\n",
       "      <th>...</th>\n",
       "      <th>MemoryComplaints</th>\n",
       "      <th>BehavioralProblems</th>\n",
       "      <th>ADL</th>\n",
       "      <th>Confusion</th>\n",
       "      <th>Disorientation</th>\n",
       "      <th>PersonalityChanges</th>\n",
       "      <th>DifficultyCompletingTasks</th>\n",
       "      <th>Forgetfulness</th>\n",
       "      <th>Diagnosis</th>\n",
       "      <th>DoctorInCharge</th>\n",
       "    </tr>\n",
       "  </thead>\n",
       "  <tbody>\n",
       "    <tr>\n",
       "      <th>0</th>\n",
       "      <td>4751</td>\n",
       "      <td>73</td>\n",
       "      <td>0</td>\n",
       "      <td>0</td>\n",
       "      <td>2</td>\n",
       "      <td>22.927749</td>\n",
       "      <td>0</td>\n",
       "      <td>13.297218</td>\n",
       "      <td>6.327112</td>\n",
       "      <td>1.347214</td>\n",
       "      <td>...</td>\n",
       "      <td>0</td>\n",
       "      <td>0</td>\n",
       "      <td>1.725883</td>\n",
       "      <td>0</td>\n",
       "      <td>0</td>\n",
       "      <td>0</td>\n",
       "      <td>1</td>\n",
       "      <td>0</td>\n",
       "      <td>0</td>\n",
       "      <td>XXXConfid</td>\n",
       "    </tr>\n",
       "    <tr>\n",
       "      <th>1</th>\n",
       "      <td>4752</td>\n",
       "      <td>89</td>\n",
       "      <td>0</td>\n",
       "      <td>0</td>\n",
       "      <td>0</td>\n",
       "      <td>26.827681</td>\n",
       "      <td>0</td>\n",
       "      <td>4.542524</td>\n",
       "      <td>7.619885</td>\n",
       "      <td>0.518767</td>\n",
       "      <td>...</td>\n",
       "      <td>0</td>\n",
       "      <td>0</td>\n",
       "      <td>2.592424</td>\n",
       "      <td>0</td>\n",
       "      <td>0</td>\n",
       "      <td>0</td>\n",
       "      <td>0</td>\n",
       "      <td>1</td>\n",
       "      <td>0</td>\n",
       "      <td>XXXConfid</td>\n",
       "    </tr>\n",
       "    <tr>\n",
       "      <th>2</th>\n",
       "      <td>4753</td>\n",
       "      <td>73</td>\n",
       "      <td>0</td>\n",
       "      <td>3</td>\n",
       "      <td>1</td>\n",
       "      <td>17.795882</td>\n",
       "      <td>0</td>\n",
       "      <td>19.555085</td>\n",
       "      <td>7.844988</td>\n",
       "      <td>1.826335</td>\n",
       "      <td>...</td>\n",
       "      <td>0</td>\n",
       "      <td>0</td>\n",
       "      <td>7.119548</td>\n",
       "      <td>0</td>\n",
       "      <td>1</td>\n",
       "      <td>0</td>\n",
       "      <td>1</td>\n",
       "      <td>0</td>\n",
       "      <td>0</td>\n",
       "      <td>XXXConfid</td>\n",
       "    </tr>\n",
       "    <tr>\n",
       "      <th>3</th>\n",
       "      <td>4754</td>\n",
       "      <td>74</td>\n",
       "      <td>1</td>\n",
       "      <td>0</td>\n",
       "      <td>1</td>\n",
       "      <td>33.800817</td>\n",
       "      <td>1</td>\n",
       "      <td>12.209266</td>\n",
       "      <td>8.428001</td>\n",
       "      <td>7.435604</td>\n",
       "      <td>...</td>\n",
       "      <td>0</td>\n",
       "      <td>1</td>\n",
       "      <td>6.481226</td>\n",
       "      <td>0</td>\n",
       "      <td>0</td>\n",
       "      <td>0</td>\n",
       "      <td>0</td>\n",
       "      <td>0</td>\n",
       "      <td>0</td>\n",
       "      <td>XXXConfid</td>\n",
       "    </tr>\n",
       "    <tr>\n",
       "      <th>4</th>\n",
       "      <td>4755</td>\n",
       "      <td>89</td>\n",
       "      <td>0</td>\n",
       "      <td>0</td>\n",
       "      <td>0</td>\n",
       "      <td>20.716974</td>\n",
       "      <td>0</td>\n",
       "      <td>18.454356</td>\n",
       "      <td>6.310461</td>\n",
       "      <td>0.795498</td>\n",
       "      <td>...</td>\n",
       "      <td>0</td>\n",
       "      <td>0</td>\n",
       "      <td>0.014691</td>\n",
       "      <td>0</td>\n",
       "      <td>0</td>\n",
       "      <td>1</td>\n",
       "      <td>1</td>\n",
       "      <td>0</td>\n",
       "      <td>0</td>\n",
       "      <td>XXXConfid</td>\n",
       "    </tr>\n",
       "  </tbody>\n",
       "</table>\n",
       "<p>5 rows × 35 columns</p>\n",
       "</div>"
      ],
      "text/plain": [
       "   PatientID  Age  Gender  Ethnicity  EducationLevel        BMI  Smoking  \\\n",
       "0       4751   73       0          0               2  22.927749        0   \n",
       "1       4752   89       0          0               0  26.827681        0   \n",
       "2       4753   73       0          3               1  17.795882        0   \n",
       "3       4754   74       1          0               1  33.800817        1   \n",
       "4       4755   89       0          0               0  20.716974        0   \n",
       "\n",
       "   AlcoholConsumption  PhysicalActivity  DietQuality  ...  MemoryComplaints  \\\n",
       "0           13.297218          6.327112     1.347214  ...                 0   \n",
       "1            4.542524          7.619885     0.518767  ...                 0   \n",
       "2           19.555085          7.844988     1.826335  ...                 0   \n",
       "3           12.209266          8.428001     7.435604  ...                 0   \n",
       "4           18.454356          6.310461     0.795498  ...                 0   \n",
       "\n",
       "   BehavioralProblems       ADL  Confusion  Disorientation  \\\n",
       "0                   0  1.725883          0               0   \n",
       "1                   0  2.592424          0               0   \n",
       "2                   0  7.119548          0               1   \n",
       "3                   1  6.481226          0               0   \n",
       "4                   0  0.014691          0               0   \n",
       "\n",
       "   PersonalityChanges  DifficultyCompletingTasks  Forgetfulness  Diagnosis  \\\n",
       "0                   0                          1              0          0   \n",
       "1                   0                          0              1          0   \n",
       "2                   0                          1              0          0   \n",
       "3                   0                          0              0          0   \n",
       "4                   1                          1              0          0   \n",
       "\n",
       "   DoctorInCharge  \n",
       "0       XXXConfid  \n",
       "1       XXXConfid  \n",
       "2       XXXConfid  \n",
       "3       XXXConfid  \n",
       "4       XXXConfid  \n",
       "\n",
       "[5 rows x 35 columns]"
      ]
     },
     "execution_count": 3,
     "metadata": {},
     "output_type": "execute_result"
    }
   ],
   "source": [
    "df.head()"
   ]
  },
  {
   "cell_type": "markdown",
   "id": "a81aa527",
   "metadata": {
    "papermill": {
     "duration": 0.009816,
     "end_time": "2025-02-20T09:14:06.604737",
     "exception": false,
     "start_time": "2025-02-20T09:14:06.594921",
     "status": "completed"
    },
    "tags": []
   },
   "source": [
    "## Shape"
   ]
  },
  {
   "cell_type": "code",
   "execution_count": 4,
   "id": "e062f7a6",
   "metadata": {
    "execution": {
     "iopub.execute_input": "2025-02-20T09:14:06.630323Z",
     "iopub.status.busy": "2025-02-20T09:14:06.629658Z",
     "iopub.status.idle": "2025-02-20T09:14:06.638436Z",
     "shell.execute_reply": "2025-02-20T09:14:06.636538Z"
    },
    "papermill": {
     "duration": 0.024627,
     "end_time": "2025-02-20T09:14:06.640894",
     "exception": false,
     "start_time": "2025-02-20T09:14:06.616267",
     "status": "completed"
    },
    "tags": []
   },
   "outputs": [
    {
     "data": {
      "text/plain": [
       "(2149, 35)"
      ]
     },
     "execution_count": 4,
     "metadata": {},
     "output_type": "execute_result"
    }
   ],
   "source": [
    "df.shape"
   ]
  },
  {
   "cell_type": "markdown",
   "id": "59823eb8",
   "metadata": {
    "papermill": {
     "duration": 0.010877,
     "end_time": "2025-02-20T09:14:06.664413",
     "exception": false,
     "start_time": "2025-02-20T09:14:06.653536",
     "status": "completed"
    },
    "tags": []
   },
   "source": [
    "# Basic Stats"
   ]
  },
  {
   "cell_type": "markdown",
   "id": "f0089210",
   "metadata": {
    "papermill": {
     "duration": 0.0102,
     "end_time": "2025-02-20T09:14:06.685018",
     "exception": false,
     "start_time": "2025-02-20T09:14:06.674818",
     "status": "completed"
    },
    "tags": []
   },
   "source": [
    "## Info"
   ]
  },
  {
   "cell_type": "code",
   "execution_count": 5,
   "id": "d879ed6f",
   "metadata": {
    "execution": {
     "iopub.execute_input": "2025-02-20T09:14:06.708162Z",
     "iopub.status.busy": "2025-02-20T09:14:06.707683Z",
     "iopub.status.idle": "2025-02-20T09:14:06.741131Z",
     "shell.execute_reply": "2025-02-20T09:14:06.739297Z"
    },
    "papermill": {
     "duration": 0.048223,
     "end_time": "2025-02-20T09:14:06.744130",
     "exception": false,
     "start_time": "2025-02-20T09:14:06.695907",
     "status": "completed"
    },
    "tags": []
   },
   "outputs": [
    {
     "name": "stdout",
     "output_type": "stream",
     "text": [
      "<class 'pandas.core.frame.DataFrame'>\n",
      "RangeIndex: 2149 entries, 0 to 2148\n",
      "Data columns (total 35 columns):\n",
      " #   Column                     Non-Null Count  Dtype  \n",
      "---  ------                     --------------  -----  \n",
      " 0   PatientID                  2149 non-null   int64  \n",
      " 1   Age                        2149 non-null   int64  \n",
      " 2   Gender                     2149 non-null   int64  \n",
      " 3   Ethnicity                  2149 non-null   int64  \n",
      " 4   EducationLevel             2149 non-null   int64  \n",
      " 5   BMI                        2149 non-null   float64\n",
      " 6   Smoking                    2149 non-null   int64  \n",
      " 7   AlcoholConsumption         2149 non-null   float64\n",
      " 8   PhysicalActivity           2149 non-null   float64\n",
      " 9   DietQuality                2149 non-null   float64\n",
      " 10  SleepQuality               2149 non-null   float64\n",
      " 11  FamilyHistoryAlzheimers    2149 non-null   int64  \n",
      " 12  CardiovascularDisease      2149 non-null   int64  \n",
      " 13  Diabetes                   2149 non-null   int64  \n",
      " 14  Depression                 2149 non-null   int64  \n",
      " 15  HeadInjury                 2149 non-null   int64  \n",
      " 16  Hypertension               2149 non-null   int64  \n",
      " 17  SystolicBP                 2149 non-null   int64  \n",
      " 18  DiastolicBP                2149 non-null   int64  \n",
      " 19  CholesterolTotal           2149 non-null   float64\n",
      " 20  CholesterolLDL             2149 non-null   float64\n",
      " 21  CholesterolHDL             2149 non-null   float64\n",
      " 22  CholesterolTriglycerides   2149 non-null   float64\n",
      " 23  MMSE                       2149 non-null   float64\n",
      " 24  FunctionalAssessment       2149 non-null   float64\n",
      " 25  MemoryComplaints           2149 non-null   int64  \n",
      " 26  BehavioralProblems         2149 non-null   int64  \n",
      " 27  ADL                        2149 non-null   float64\n",
      " 28  Confusion                  2149 non-null   int64  \n",
      " 29  Disorientation             2149 non-null   int64  \n",
      " 30  PersonalityChanges         2149 non-null   int64  \n",
      " 31  DifficultyCompletingTasks  2149 non-null   int64  \n",
      " 32  Forgetfulness              2149 non-null   int64  \n",
      " 33  Diagnosis                  2149 non-null   int64  \n",
      " 34  DoctorInCharge             2149 non-null   object \n",
      "dtypes: float64(12), int64(22), object(1)\n",
      "memory usage: 587.7+ KB\n"
     ]
    }
   ],
   "source": [
    "df.info()"
   ]
  },
  {
   "cell_type": "code",
   "execution_count": 6,
   "id": "6f3f29aa",
   "metadata": {
    "execution": {
     "iopub.execute_input": "2025-02-20T09:14:06.769615Z",
     "iopub.status.busy": "2025-02-20T09:14:06.768940Z",
     "iopub.status.idle": "2025-02-20T09:14:06.857970Z",
     "shell.execute_reply": "2025-02-20T09:14:06.856249Z"
    },
    "papermill": {
     "duration": 0.105091,
     "end_time": "2025-02-20T09:14:06.860425",
     "exception": false,
     "start_time": "2025-02-20T09:14:06.755334",
     "status": "completed"
    },
    "tags": []
   },
   "outputs": [
    {
     "data": {
      "text/html": [
       "<div>\n",
       "<style scoped>\n",
       "    .dataframe tbody tr th:only-of-type {\n",
       "        vertical-align: middle;\n",
       "    }\n",
       "\n",
       "    .dataframe tbody tr th {\n",
       "        vertical-align: top;\n",
       "    }\n",
       "\n",
       "    .dataframe thead th {\n",
       "        text-align: right;\n",
       "    }\n",
       "</style>\n",
       "<table border=\"1\" class=\"dataframe\">\n",
       "  <thead>\n",
       "    <tr style=\"text-align: right;\">\n",
       "      <th></th>\n",
       "      <th>count</th>\n",
       "      <th>unique</th>\n",
       "      <th>top</th>\n",
       "      <th>freq</th>\n",
       "      <th>mean</th>\n",
       "      <th>std</th>\n",
       "      <th>min</th>\n",
       "      <th>25%</th>\n",
       "      <th>50%</th>\n",
       "      <th>75%</th>\n",
       "      <th>max</th>\n",
       "    </tr>\n",
       "  </thead>\n",
       "  <tbody>\n",
       "    <tr>\n",
       "      <th>PatientID</th>\n",
       "      <td>2149.0</td>\n",
       "      <td>NaN</td>\n",
       "      <td>NaN</td>\n",
       "      <td>NaN</td>\n",
       "      <td>5825.0</td>\n",
       "      <td>620.507185</td>\n",
       "      <td>4751.0</td>\n",
       "      <td>5288.0</td>\n",
       "      <td>5825.0</td>\n",
       "      <td>6362.0</td>\n",
       "      <td>6899.0</td>\n",
       "    </tr>\n",
       "    <tr>\n",
       "      <th>Age</th>\n",
       "      <td>2149.0</td>\n",
       "      <td>NaN</td>\n",
       "      <td>NaN</td>\n",
       "      <td>NaN</td>\n",
       "      <td>74.908795</td>\n",
       "      <td>8.990221</td>\n",
       "      <td>60.0</td>\n",
       "      <td>67.0</td>\n",
       "      <td>75.0</td>\n",
       "      <td>83.0</td>\n",
       "      <td>90.0</td>\n",
       "    </tr>\n",
       "    <tr>\n",
       "      <th>Gender</th>\n",
       "      <td>2149.0</td>\n",
       "      <td>NaN</td>\n",
       "      <td>NaN</td>\n",
       "      <td>NaN</td>\n",
       "      <td>0.506282</td>\n",
       "      <td>0.500077</td>\n",
       "      <td>0.0</td>\n",
       "      <td>0.0</td>\n",
       "      <td>1.0</td>\n",
       "      <td>1.0</td>\n",
       "      <td>1.0</td>\n",
       "    </tr>\n",
       "    <tr>\n",
       "      <th>Ethnicity</th>\n",
       "      <td>2149.0</td>\n",
       "      <td>NaN</td>\n",
       "      <td>NaN</td>\n",
       "      <td>NaN</td>\n",
       "      <td>0.697534</td>\n",
       "      <td>0.996128</td>\n",
       "      <td>0.0</td>\n",
       "      <td>0.0</td>\n",
       "      <td>0.0</td>\n",
       "      <td>1.0</td>\n",
       "      <td>3.0</td>\n",
       "    </tr>\n",
       "    <tr>\n",
       "      <th>EducationLevel</th>\n",
       "      <td>2149.0</td>\n",
       "      <td>NaN</td>\n",
       "      <td>NaN</td>\n",
       "      <td>NaN</td>\n",
       "      <td>1.286645</td>\n",
       "      <td>0.904527</td>\n",
       "      <td>0.0</td>\n",
       "      <td>1.0</td>\n",
       "      <td>1.0</td>\n",
       "      <td>2.0</td>\n",
       "      <td>3.0</td>\n",
       "    </tr>\n",
       "    <tr>\n",
       "      <th>BMI</th>\n",
       "      <td>2149.0</td>\n",
       "      <td>NaN</td>\n",
       "      <td>NaN</td>\n",
       "      <td>NaN</td>\n",
       "      <td>27.655697</td>\n",
       "      <td>7.217438</td>\n",
       "      <td>15.008851</td>\n",
       "      <td>21.611408</td>\n",
       "      <td>27.823924</td>\n",
       "      <td>33.869778</td>\n",
       "      <td>39.992767</td>\n",
       "    </tr>\n",
       "    <tr>\n",
       "      <th>Smoking</th>\n",
       "      <td>2149.0</td>\n",
       "      <td>NaN</td>\n",
       "      <td>NaN</td>\n",
       "      <td>NaN</td>\n",
       "      <td>0.288506</td>\n",
       "      <td>0.453173</td>\n",
       "      <td>0.0</td>\n",
       "      <td>0.0</td>\n",
       "      <td>0.0</td>\n",
       "      <td>1.0</td>\n",
       "      <td>1.0</td>\n",
       "    </tr>\n",
       "    <tr>\n",
       "      <th>AlcoholConsumption</th>\n",
       "      <td>2149.0</td>\n",
       "      <td>NaN</td>\n",
       "      <td>NaN</td>\n",
       "      <td>NaN</td>\n",
       "      <td>10.039442</td>\n",
       "      <td>5.75791</td>\n",
       "      <td>0.002003</td>\n",
       "      <td>5.13981</td>\n",
       "      <td>9.934412</td>\n",
       "      <td>15.157931</td>\n",
       "      <td>19.989293</td>\n",
       "    </tr>\n",
       "    <tr>\n",
       "      <th>PhysicalActivity</th>\n",
       "      <td>2149.0</td>\n",
       "      <td>NaN</td>\n",
       "      <td>NaN</td>\n",
       "      <td>NaN</td>\n",
       "      <td>4.920202</td>\n",
       "      <td>2.857191</td>\n",
       "      <td>0.003616</td>\n",
       "      <td>2.570626</td>\n",
       "      <td>4.766424</td>\n",
       "      <td>7.427899</td>\n",
       "      <td>9.987429</td>\n",
       "    </tr>\n",
       "    <tr>\n",
       "      <th>DietQuality</th>\n",
       "      <td>2149.0</td>\n",
       "      <td>NaN</td>\n",
       "      <td>NaN</td>\n",
       "      <td>NaN</td>\n",
       "      <td>4.993138</td>\n",
       "      <td>2.909055</td>\n",
       "      <td>0.009385</td>\n",
       "      <td>2.458455</td>\n",
       "      <td>5.076087</td>\n",
       "      <td>7.558625</td>\n",
       "      <td>9.998346</td>\n",
       "    </tr>\n",
       "    <tr>\n",
       "      <th>SleepQuality</th>\n",
       "      <td>2149.0</td>\n",
       "      <td>NaN</td>\n",
       "      <td>NaN</td>\n",
       "      <td>NaN</td>\n",
       "      <td>7.051081</td>\n",
       "      <td>1.763573</td>\n",
       "      <td>4.002629</td>\n",
       "      <td>5.482997</td>\n",
       "      <td>7.115646</td>\n",
       "      <td>8.562521</td>\n",
       "      <td>9.99984</td>\n",
       "    </tr>\n",
       "    <tr>\n",
       "      <th>FamilyHistoryAlzheimers</th>\n",
       "      <td>2149.0</td>\n",
       "      <td>NaN</td>\n",
       "      <td>NaN</td>\n",
       "      <td>NaN</td>\n",
       "      <td>0.25221</td>\n",
       "      <td>0.434382</td>\n",
       "      <td>0.0</td>\n",
       "      <td>0.0</td>\n",
       "      <td>0.0</td>\n",
       "      <td>1.0</td>\n",
       "      <td>1.0</td>\n",
       "    </tr>\n",
       "    <tr>\n",
       "      <th>CardiovascularDisease</th>\n",
       "      <td>2149.0</td>\n",
       "      <td>NaN</td>\n",
       "      <td>NaN</td>\n",
       "      <td>NaN</td>\n",
       "      <td>0.144253</td>\n",
       "      <td>0.351428</td>\n",
       "      <td>0.0</td>\n",
       "      <td>0.0</td>\n",
       "      <td>0.0</td>\n",
       "      <td>0.0</td>\n",
       "      <td>1.0</td>\n",
       "    </tr>\n",
       "    <tr>\n",
       "      <th>Diabetes</th>\n",
       "      <td>2149.0</td>\n",
       "      <td>NaN</td>\n",
       "      <td>NaN</td>\n",
       "      <td>NaN</td>\n",
       "      <td>0.150768</td>\n",
       "      <td>0.357906</td>\n",
       "      <td>0.0</td>\n",
       "      <td>0.0</td>\n",
       "      <td>0.0</td>\n",
       "      <td>0.0</td>\n",
       "      <td>1.0</td>\n",
       "    </tr>\n",
       "    <tr>\n",
       "      <th>Depression</th>\n",
       "      <td>2149.0</td>\n",
       "      <td>NaN</td>\n",
       "      <td>NaN</td>\n",
       "      <td>NaN</td>\n",
       "      <td>0.200558</td>\n",
       "      <td>0.400511</td>\n",
       "      <td>0.0</td>\n",
       "      <td>0.0</td>\n",
       "      <td>0.0</td>\n",
       "      <td>0.0</td>\n",
       "      <td>1.0</td>\n",
       "    </tr>\n",
       "    <tr>\n",
       "      <th>HeadInjury</th>\n",
       "      <td>2149.0</td>\n",
       "      <td>NaN</td>\n",
       "      <td>NaN</td>\n",
       "      <td>NaN</td>\n",
       "      <td>0.092601</td>\n",
       "      <td>0.28994</td>\n",
       "      <td>0.0</td>\n",
       "      <td>0.0</td>\n",
       "      <td>0.0</td>\n",
       "      <td>0.0</td>\n",
       "      <td>1.0</td>\n",
       "    </tr>\n",
       "    <tr>\n",
       "      <th>Hypertension</th>\n",
       "      <td>2149.0</td>\n",
       "      <td>NaN</td>\n",
       "      <td>NaN</td>\n",
       "      <td>NaN</td>\n",
       "      <td>0.148906</td>\n",
       "      <td>0.356079</td>\n",
       "      <td>0.0</td>\n",
       "      <td>0.0</td>\n",
       "      <td>0.0</td>\n",
       "      <td>0.0</td>\n",
       "      <td>1.0</td>\n",
       "    </tr>\n",
       "    <tr>\n",
       "      <th>SystolicBP</th>\n",
       "      <td>2149.0</td>\n",
       "      <td>NaN</td>\n",
       "      <td>NaN</td>\n",
       "      <td>NaN</td>\n",
       "      <td>134.264774</td>\n",
       "      <td>25.949352</td>\n",
       "      <td>90.0</td>\n",
       "      <td>112.0</td>\n",
       "      <td>134.0</td>\n",
       "      <td>157.0</td>\n",
       "      <td>179.0</td>\n",
       "    </tr>\n",
       "    <tr>\n",
       "      <th>DiastolicBP</th>\n",
       "      <td>2149.0</td>\n",
       "      <td>NaN</td>\n",
       "      <td>NaN</td>\n",
       "      <td>NaN</td>\n",
       "      <td>89.847836</td>\n",
       "      <td>17.592496</td>\n",
       "      <td>60.0</td>\n",
       "      <td>74.0</td>\n",
       "      <td>91.0</td>\n",
       "      <td>105.0</td>\n",
       "      <td>119.0</td>\n",
       "    </tr>\n",
       "    <tr>\n",
       "      <th>CholesterolTotal</th>\n",
       "      <td>2149.0</td>\n",
       "      <td>NaN</td>\n",
       "      <td>NaN</td>\n",
       "      <td>NaN</td>\n",
       "      <td>225.197519</td>\n",
       "      <td>42.542233</td>\n",
       "      <td>150.093316</td>\n",
       "      <td>190.252963</td>\n",
       "      <td>225.08643</td>\n",
       "      <td>262.031657</td>\n",
       "      <td>299.993352</td>\n",
       "    </tr>\n",
       "    <tr>\n",
       "      <th>CholesterolLDL</th>\n",
       "      <td>2149.0</td>\n",
       "      <td>NaN</td>\n",
       "      <td>NaN</td>\n",
       "      <td>NaN</td>\n",
       "      <td>124.335944</td>\n",
       "      <td>43.366584</td>\n",
       "      <td>50.230707</td>\n",
       "      <td>87.195798</td>\n",
       "      <td>123.342593</td>\n",
       "      <td>161.733733</td>\n",
       "      <td>199.965665</td>\n",
       "    </tr>\n",
       "    <tr>\n",
       "      <th>CholesterolHDL</th>\n",
       "      <td>2149.0</td>\n",
       "      <td>NaN</td>\n",
       "      <td>NaN</td>\n",
       "      <td>NaN</td>\n",
       "      <td>59.463533</td>\n",
       "      <td>23.139174</td>\n",
       "      <td>20.003434</td>\n",
       "      <td>39.095698</td>\n",
       "      <td>59.768237</td>\n",
       "      <td>78.93905</td>\n",
       "      <td>99.980324</td>\n",
       "    </tr>\n",
       "    <tr>\n",
       "      <th>CholesterolTriglycerides</th>\n",
       "      <td>2149.0</td>\n",
       "      <td>NaN</td>\n",
       "      <td>NaN</td>\n",
       "      <td>NaN</td>\n",
       "      <td>228.281496</td>\n",
       "      <td>101.986721</td>\n",
       "      <td>50.407194</td>\n",
       "      <td>137.583222</td>\n",
       "      <td>230.301983</td>\n",
       "      <td>314.839046</td>\n",
       "      <td>399.941862</td>\n",
       "    </tr>\n",
       "    <tr>\n",
       "      <th>MMSE</th>\n",
       "      <td>2149.0</td>\n",
       "      <td>NaN</td>\n",
       "      <td>NaN</td>\n",
       "      <td>NaN</td>\n",
       "      <td>14.755132</td>\n",
       "      <td>8.613151</td>\n",
       "      <td>0.005312</td>\n",
       "      <td>7.167602</td>\n",
       "      <td>14.44166</td>\n",
       "      <td>22.161028</td>\n",
       "      <td>29.991381</td>\n",
       "    </tr>\n",
       "    <tr>\n",
       "      <th>FunctionalAssessment</th>\n",
       "      <td>2149.0</td>\n",
       "      <td>NaN</td>\n",
       "      <td>NaN</td>\n",
       "      <td>NaN</td>\n",
       "      <td>5.080055</td>\n",
       "      <td>2.892743</td>\n",
       "      <td>0.00046</td>\n",
       "      <td>2.566281</td>\n",
       "      <td>5.094439</td>\n",
       "      <td>7.546981</td>\n",
       "      <td>9.996467</td>\n",
       "    </tr>\n",
       "    <tr>\n",
       "      <th>MemoryComplaints</th>\n",
       "      <td>2149.0</td>\n",
       "      <td>NaN</td>\n",
       "      <td>NaN</td>\n",
       "      <td>NaN</td>\n",
       "      <td>0.208004</td>\n",
       "      <td>0.405974</td>\n",
       "      <td>0.0</td>\n",
       "      <td>0.0</td>\n",
       "      <td>0.0</td>\n",
       "      <td>0.0</td>\n",
       "      <td>1.0</td>\n",
       "    </tr>\n",
       "    <tr>\n",
       "      <th>BehavioralProblems</th>\n",
       "      <td>2149.0</td>\n",
       "      <td>NaN</td>\n",
       "      <td>NaN</td>\n",
       "      <td>NaN</td>\n",
       "      <td>0.156817</td>\n",
       "      <td>0.363713</td>\n",
       "      <td>0.0</td>\n",
       "      <td>0.0</td>\n",
       "      <td>0.0</td>\n",
       "      <td>0.0</td>\n",
       "      <td>1.0</td>\n",
       "    </tr>\n",
       "    <tr>\n",
       "      <th>ADL</th>\n",
       "      <td>2149.0</td>\n",
       "      <td>NaN</td>\n",
       "      <td>NaN</td>\n",
       "      <td>NaN</td>\n",
       "      <td>4.982958</td>\n",
       "      <td>2.949775</td>\n",
       "      <td>0.001288</td>\n",
       "      <td>2.342836</td>\n",
       "      <td>5.038973</td>\n",
       "      <td>7.58149</td>\n",
       "      <td>9.999747</td>\n",
       "    </tr>\n",
       "    <tr>\n",
       "      <th>Confusion</th>\n",
       "      <td>2149.0</td>\n",
       "      <td>NaN</td>\n",
       "      <td>NaN</td>\n",
       "      <td>NaN</td>\n",
       "      <td>0.205212</td>\n",
       "      <td>0.40395</td>\n",
       "      <td>0.0</td>\n",
       "      <td>0.0</td>\n",
       "      <td>0.0</td>\n",
       "      <td>0.0</td>\n",
       "      <td>1.0</td>\n",
       "    </tr>\n",
       "    <tr>\n",
       "      <th>Disorientation</th>\n",
       "      <td>2149.0</td>\n",
       "      <td>NaN</td>\n",
       "      <td>NaN</td>\n",
       "      <td>NaN</td>\n",
       "      <td>0.158213</td>\n",
       "      <td>0.365026</td>\n",
       "      <td>0.0</td>\n",
       "      <td>0.0</td>\n",
       "      <td>0.0</td>\n",
       "      <td>0.0</td>\n",
       "      <td>1.0</td>\n",
       "    </tr>\n",
       "    <tr>\n",
       "      <th>PersonalityChanges</th>\n",
       "      <td>2149.0</td>\n",
       "      <td>NaN</td>\n",
       "      <td>NaN</td>\n",
       "      <td>NaN</td>\n",
       "      <td>0.150768</td>\n",
       "      <td>0.357906</td>\n",
       "      <td>0.0</td>\n",
       "      <td>0.0</td>\n",
       "      <td>0.0</td>\n",
       "      <td>0.0</td>\n",
       "      <td>1.0</td>\n",
       "    </tr>\n",
       "    <tr>\n",
       "      <th>DifficultyCompletingTasks</th>\n",
       "      <td>2149.0</td>\n",
       "      <td>NaN</td>\n",
       "      <td>NaN</td>\n",
       "      <td>NaN</td>\n",
       "      <td>0.158678</td>\n",
       "      <td>0.365461</td>\n",
       "      <td>0.0</td>\n",
       "      <td>0.0</td>\n",
       "      <td>0.0</td>\n",
       "      <td>0.0</td>\n",
       "      <td>1.0</td>\n",
       "    </tr>\n",
       "    <tr>\n",
       "      <th>Forgetfulness</th>\n",
       "      <td>2149.0</td>\n",
       "      <td>NaN</td>\n",
       "      <td>NaN</td>\n",
       "      <td>NaN</td>\n",
       "      <td>0.301536</td>\n",
       "      <td>0.459032</td>\n",
       "      <td>0.0</td>\n",
       "      <td>0.0</td>\n",
       "      <td>0.0</td>\n",
       "      <td>1.0</td>\n",
       "      <td>1.0</td>\n",
       "    </tr>\n",
       "    <tr>\n",
       "      <th>Diagnosis</th>\n",
       "      <td>2149.0</td>\n",
       "      <td>NaN</td>\n",
       "      <td>NaN</td>\n",
       "      <td>NaN</td>\n",
       "      <td>0.353653</td>\n",
       "      <td>0.478214</td>\n",
       "      <td>0.0</td>\n",
       "      <td>0.0</td>\n",
       "      <td>0.0</td>\n",
       "      <td>1.0</td>\n",
       "      <td>1.0</td>\n",
       "    </tr>\n",
       "    <tr>\n",
       "      <th>DoctorInCharge</th>\n",
       "      <td>2149</td>\n",
       "      <td>1</td>\n",
       "      <td>XXXConfid</td>\n",
       "      <td>2149</td>\n",
       "      <td>NaN</td>\n",
       "      <td>NaN</td>\n",
       "      <td>NaN</td>\n",
       "      <td>NaN</td>\n",
       "      <td>NaN</td>\n",
       "      <td>NaN</td>\n",
       "      <td>NaN</td>\n",
       "    </tr>\n",
       "  </tbody>\n",
       "</table>\n",
       "</div>"
      ],
      "text/plain": [
       "                            count unique        top  freq        mean  \\\n",
       "PatientID                  2149.0    NaN        NaN   NaN      5825.0   \n",
       "Age                        2149.0    NaN        NaN   NaN   74.908795   \n",
       "Gender                     2149.0    NaN        NaN   NaN    0.506282   \n",
       "Ethnicity                  2149.0    NaN        NaN   NaN    0.697534   \n",
       "EducationLevel             2149.0    NaN        NaN   NaN    1.286645   \n",
       "BMI                        2149.0    NaN        NaN   NaN   27.655697   \n",
       "Smoking                    2149.0    NaN        NaN   NaN    0.288506   \n",
       "AlcoholConsumption         2149.0    NaN        NaN   NaN   10.039442   \n",
       "PhysicalActivity           2149.0    NaN        NaN   NaN    4.920202   \n",
       "DietQuality                2149.0    NaN        NaN   NaN    4.993138   \n",
       "SleepQuality               2149.0    NaN        NaN   NaN    7.051081   \n",
       "FamilyHistoryAlzheimers    2149.0    NaN        NaN   NaN     0.25221   \n",
       "CardiovascularDisease      2149.0    NaN        NaN   NaN    0.144253   \n",
       "Diabetes                   2149.0    NaN        NaN   NaN    0.150768   \n",
       "Depression                 2149.0    NaN        NaN   NaN    0.200558   \n",
       "HeadInjury                 2149.0    NaN        NaN   NaN    0.092601   \n",
       "Hypertension               2149.0    NaN        NaN   NaN    0.148906   \n",
       "SystolicBP                 2149.0    NaN        NaN   NaN  134.264774   \n",
       "DiastolicBP                2149.0    NaN        NaN   NaN   89.847836   \n",
       "CholesterolTotal           2149.0    NaN        NaN   NaN  225.197519   \n",
       "CholesterolLDL             2149.0    NaN        NaN   NaN  124.335944   \n",
       "CholesterolHDL             2149.0    NaN        NaN   NaN   59.463533   \n",
       "CholesterolTriglycerides   2149.0    NaN        NaN   NaN  228.281496   \n",
       "MMSE                       2149.0    NaN        NaN   NaN   14.755132   \n",
       "FunctionalAssessment       2149.0    NaN        NaN   NaN    5.080055   \n",
       "MemoryComplaints           2149.0    NaN        NaN   NaN    0.208004   \n",
       "BehavioralProblems         2149.0    NaN        NaN   NaN    0.156817   \n",
       "ADL                        2149.0    NaN        NaN   NaN    4.982958   \n",
       "Confusion                  2149.0    NaN        NaN   NaN    0.205212   \n",
       "Disorientation             2149.0    NaN        NaN   NaN    0.158213   \n",
       "PersonalityChanges         2149.0    NaN        NaN   NaN    0.150768   \n",
       "DifficultyCompletingTasks  2149.0    NaN        NaN   NaN    0.158678   \n",
       "Forgetfulness              2149.0    NaN        NaN   NaN    0.301536   \n",
       "Diagnosis                  2149.0    NaN        NaN   NaN    0.353653   \n",
       "DoctorInCharge               2149      1  XXXConfid  2149         NaN   \n",
       "\n",
       "                                  std         min         25%         50%  \\\n",
       "PatientID                  620.507185      4751.0      5288.0      5825.0   \n",
       "Age                          8.990221        60.0        67.0        75.0   \n",
       "Gender                       0.500077         0.0         0.0         1.0   \n",
       "Ethnicity                    0.996128         0.0         0.0         0.0   \n",
       "EducationLevel               0.904527         0.0         1.0         1.0   \n",
       "BMI                          7.217438   15.008851   21.611408   27.823924   \n",
       "Smoking                      0.453173         0.0         0.0         0.0   \n",
       "AlcoholConsumption            5.75791    0.002003     5.13981    9.934412   \n",
       "PhysicalActivity             2.857191    0.003616    2.570626    4.766424   \n",
       "DietQuality                  2.909055    0.009385    2.458455    5.076087   \n",
       "SleepQuality                 1.763573    4.002629    5.482997    7.115646   \n",
       "FamilyHistoryAlzheimers      0.434382         0.0         0.0         0.0   \n",
       "CardiovascularDisease        0.351428         0.0         0.0         0.0   \n",
       "Diabetes                     0.357906         0.0         0.0         0.0   \n",
       "Depression                   0.400511         0.0         0.0         0.0   \n",
       "HeadInjury                    0.28994         0.0         0.0         0.0   \n",
       "Hypertension                 0.356079         0.0         0.0         0.0   \n",
       "SystolicBP                  25.949352        90.0       112.0       134.0   \n",
       "DiastolicBP                 17.592496        60.0        74.0        91.0   \n",
       "CholesterolTotal            42.542233  150.093316  190.252963   225.08643   \n",
       "CholesterolLDL              43.366584   50.230707   87.195798  123.342593   \n",
       "CholesterolHDL              23.139174   20.003434   39.095698   59.768237   \n",
       "CholesterolTriglycerides   101.986721   50.407194  137.583222  230.301983   \n",
       "MMSE                         8.613151    0.005312    7.167602    14.44166   \n",
       "FunctionalAssessment         2.892743     0.00046    2.566281    5.094439   \n",
       "MemoryComplaints             0.405974         0.0         0.0         0.0   \n",
       "BehavioralProblems           0.363713         0.0         0.0         0.0   \n",
       "ADL                          2.949775    0.001288    2.342836    5.038973   \n",
       "Confusion                     0.40395         0.0         0.0         0.0   \n",
       "Disorientation               0.365026         0.0         0.0         0.0   \n",
       "PersonalityChanges           0.357906         0.0         0.0         0.0   \n",
       "DifficultyCompletingTasks    0.365461         0.0         0.0         0.0   \n",
       "Forgetfulness                0.459032         0.0         0.0         0.0   \n",
       "Diagnosis                    0.478214         0.0         0.0         0.0   \n",
       "DoctorInCharge                    NaN         NaN         NaN         NaN   \n",
       "\n",
       "                                  75%         max  \n",
       "PatientID                      6362.0      6899.0  \n",
       "Age                              83.0        90.0  \n",
       "Gender                            1.0         1.0  \n",
       "Ethnicity                         1.0         3.0  \n",
       "EducationLevel                    2.0         3.0  \n",
       "BMI                         33.869778   39.992767  \n",
       "Smoking                           1.0         1.0  \n",
       "AlcoholConsumption          15.157931   19.989293  \n",
       "PhysicalActivity             7.427899    9.987429  \n",
       "DietQuality                  7.558625    9.998346  \n",
       "SleepQuality                 8.562521     9.99984  \n",
       "FamilyHistoryAlzheimers           1.0         1.0  \n",
       "CardiovascularDisease             0.0         1.0  \n",
       "Diabetes                          0.0         1.0  \n",
       "Depression                        0.0         1.0  \n",
       "HeadInjury                        0.0         1.0  \n",
       "Hypertension                      0.0         1.0  \n",
       "SystolicBP                      157.0       179.0  \n",
       "DiastolicBP                     105.0       119.0  \n",
       "CholesterolTotal           262.031657  299.993352  \n",
       "CholesterolLDL             161.733733  199.965665  \n",
       "CholesterolHDL               78.93905   99.980324  \n",
       "CholesterolTriglycerides   314.839046  399.941862  \n",
       "MMSE                        22.161028   29.991381  \n",
       "FunctionalAssessment         7.546981    9.996467  \n",
       "MemoryComplaints                  0.0         1.0  \n",
       "BehavioralProblems                0.0         1.0  \n",
       "ADL                           7.58149    9.999747  \n",
       "Confusion                         0.0         1.0  \n",
       "Disorientation                    0.0         1.0  \n",
       "PersonalityChanges                0.0         1.0  \n",
       "DifficultyCompletingTasks         0.0         1.0  \n",
       "Forgetfulness                     1.0         1.0  \n",
       "Diagnosis                         1.0         1.0  \n",
       "DoctorInCharge                    NaN         NaN  "
      ]
     },
     "execution_count": 6,
     "metadata": {},
     "output_type": "execute_result"
    }
   ],
   "source": [
    "df.describe(include=\"all\").T"
   ]
  },
  {
   "cell_type": "markdown",
   "id": "a43f7674",
   "metadata": {
    "papermill": {
     "duration": 0.011087,
     "end_time": "2025-02-20T09:14:06.882462",
     "exception": false,
     "start_time": "2025-02-20T09:14:06.871375",
     "status": "completed"
    },
    "tags": []
   },
   "source": [
    "## Distributions"
   ]
  },
  {
   "cell_type": "code",
   "execution_count": 7,
   "id": "a68a951c",
   "metadata": {
    "execution": {
     "iopub.execute_input": "2025-02-20T09:14:06.908878Z",
     "iopub.status.busy": "2025-02-20T09:14:06.908400Z",
     "iopub.status.idle": "2025-02-20T09:14:13.251187Z",
     "shell.execute_reply": "2025-02-20T09:14:13.249888Z"
    },
    "papermill": {
     "duration": 6.359091,
     "end_time": "2025-02-20T09:14:13.254676",
     "exception": false,
     "start_time": "2025-02-20T09:14:06.895585",
     "status": "completed"
    },
    "tags": []
   },
   "outputs": [
    {
     "data": {
      "text/plain": [
       "array([[<Axes: title={'center': 'PatientID'}>,\n",
       "        <Axes: title={'center': 'Age'}>,\n",
       "        <Axes: title={'center': 'Gender'}>,\n",
       "        <Axes: title={'center': 'Ethnicity'}>,\n",
       "        <Axes: title={'center': 'EducationLevel'}>,\n",
       "        <Axes: title={'center': 'BMI'}>],\n",
       "       [<Axes: title={'center': 'Smoking'}>,\n",
       "        <Axes: title={'center': 'AlcoholConsumption'}>,\n",
       "        <Axes: title={'center': 'PhysicalActivity'}>,\n",
       "        <Axes: title={'center': 'DietQuality'}>,\n",
       "        <Axes: title={'center': 'SleepQuality'}>,\n",
       "        <Axes: title={'center': 'FamilyHistoryAlzheimers'}>],\n",
       "       [<Axes: title={'center': 'CardiovascularDisease'}>,\n",
       "        <Axes: title={'center': 'Diabetes'}>,\n",
       "        <Axes: title={'center': 'Depression'}>,\n",
       "        <Axes: title={'center': 'HeadInjury'}>,\n",
       "        <Axes: title={'center': 'Hypertension'}>,\n",
       "        <Axes: title={'center': 'SystolicBP'}>],\n",
       "       [<Axes: title={'center': 'DiastolicBP'}>,\n",
       "        <Axes: title={'center': 'CholesterolTotal'}>,\n",
       "        <Axes: title={'center': 'CholesterolLDL'}>,\n",
       "        <Axes: title={'center': 'CholesterolHDL'}>,\n",
       "        <Axes: title={'center': 'CholesterolTriglycerides'}>,\n",
       "        <Axes: title={'center': 'MMSE'}>],\n",
       "       [<Axes: title={'center': 'FunctionalAssessment'}>,\n",
       "        <Axes: title={'center': 'MemoryComplaints'}>,\n",
       "        <Axes: title={'center': 'BehavioralProblems'}>,\n",
       "        <Axes: title={'center': 'ADL'}>,\n",
       "        <Axes: title={'center': 'Confusion'}>,\n",
       "        <Axes: title={'center': 'Disorientation'}>],\n",
       "       [<Axes: title={'center': 'PersonalityChanges'}>,\n",
       "        <Axes: title={'center': 'DifficultyCompletingTasks'}>,\n",
       "        <Axes: title={'center': 'Forgetfulness'}>,\n",
       "        <Axes: title={'center': 'Diagnosis'}>, <Axes: >, <Axes: >]],\n",
       "      dtype=object)"
      ]
     },
     "execution_count": 7,
     "metadata": {},
     "output_type": "execute_result"
    },
    {
     "data": {
      "image/png": "[encoded data removed]",
      "text/plain": [
       "<Figure size 2000x1500 with 36 Axes>"
      ]
     },
     "metadata": {},
     "output_type": "display_data"
    }
   ],
   "source": [
    "df.hist(figsize=(20, 15))"
   ]
  },
  {
   "cell_type": "markdown",
   "id": "794d8ab0",
   "metadata": {
    "papermill": {
     "duration": 0.014474,
     "end_time": "2025-02-20T09:14:13.284519",
     "exception": false,
     "start_time": "2025-02-20T09:14:13.270045",
     "status": "completed"
    },
    "tags": []
   },
   "source": [
    "# Missing Values"
   ]
  },
  {
   "cell_type": "code",
   "execution_count": 8,
   "id": "3f02268d",
   "metadata": {
    "execution": {
     "iopub.execute_input": "2025-02-20T09:14:13.315630Z",
     "iopub.status.busy": "2025-02-20T09:14:13.315235Z",
     "iopub.status.idle": "2025-02-20T09:14:13.325516Z",
     "shell.execute_reply": "2025-02-20T09:14:13.323758Z"
    },
    "papermill": {
     "duration": 0.028478,
     "end_time": "2025-02-20T09:14:13.327649",
     "exception": false,
     "start_time": "2025-02-20T09:14:13.299171",
     "status": "completed"
    },
    "tags": []
   },
   "outputs": [
    {
     "data": {
      "text/plain": [
       "PatientID                    0\n",
       "Age                          0\n",
       "Gender                       0\n",
       "Ethnicity                    0\n",
       "EducationLevel               0\n",
       "BMI                          0\n",
       "Smoking                      0\n",
       "AlcoholConsumption           0\n",
       "PhysicalActivity             0\n",
       "DietQuality                  0\n",
       "SleepQuality                 0\n",
       "FamilyHistoryAlzheimers      0\n",
       "CardiovascularDisease        0\n",
       "Diabetes                     0\n",
       "Depression                   0\n",
       "HeadInjury                   0\n",
       "Hypertension                 0\n",
       "SystolicBP                   0\n",
       "DiastolicBP                  0\n",
       "CholesterolTotal             0\n",
       "CholesterolLDL               0\n",
       "CholesterolHDL               0\n",
       "CholesterolTriglycerides     0\n",
       "MMSE                         0\n",
       "FunctionalAssessment         0\n",
       "MemoryComplaints             0\n",
       "BehavioralProblems           0\n",
       "ADL                          0\n",
       "Confusion                    0\n",
       "Disorientation               0\n",
       "PersonalityChanges           0\n",
       "DifficultyCompletingTasks    0\n",
       "Forgetfulness                0\n",
       "Diagnosis                    0\n",
       "DoctorInCharge               0\n",
       "dtype: int64"
      ]
     },
     "execution_count": 8,
     "metadata": {},
     "output_type": "execute_result"
    }
   ],
   "source": [
    "df.isnull().sum()"
   ]
  },
  {
   "cell_type": "markdown",
   "id": "099941e2",
   "metadata": {
    "papermill": {
     "duration": 0.015041,
     "end_time": "2025-02-20T09:14:13.358351",
     "exception": false,
     "start_time": "2025-02-20T09:14:13.343310",
     "status": "completed"
    },
    "tags": []
   },
   "source": [
    "# Unique Values"
   ]
  },
  {
   "cell_type": "code",
   "execution_count": 9,
   "id": "37f8569a",
   "metadata": {
    "execution": {
     "iopub.execute_input": "2025-02-20T09:14:13.391998Z",
     "iopub.status.busy": "2025-02-20T09:14:13.391549Z",
     "iopub.status.idle": "2025-02-20T09:14:13.433933Z",
     "shell.execute_reply": "2025-02-20T09:14:13.432464Z"
    },
    "papermill": {
     "duration": 0.062691,
     "end_time": "2025-02-20T09:14:13.436450",
     "exception": false,
     "start_time": "2025-02-20T09:14:13.373759",
     "status": "completed"
    },
    "tags": []
   },
   "outputs": [
    {
     "name": "stdout",
     "output_type": "stream",
     "text": [
      "PatientID\n",
      "---------------------------------------------\n",
      "[4751 4752 4753 ... 6897 6898 6899]\n",
      "\n",
      "Age\n",
      "---------------------------------------------\n",
      "[73 89 74 86 68 75 72 87 78 84 64 69 63 65 82 77 71 83 79 67 66 70 85 60\n",
      " 88 62 81 61 80 90 76]\n",
      "\n",
      "Gender\n",
      "---------------------------------------------\n",
      "[0 1]\n",
      "\n",
      "Ethnicity\n",
      "---------------------------------------------\n",
      "[0 3 1 2]\n",
      "\n",
      "EducationLevel\n",
      "---------------------------------------------\n",
      "[2 0 1 3]\n",
      "\n",
      "BMI\n",
      "---------------------------------------------\n",
      "[22.92774923 26.82768119 17.79588244 ... 15.47647896 15.29991122\n",
      " 33.28973831]\n",
      "\n",
      "Smoking\n",
      "---------------------------------------------\n",
      "[0 1]\n",
      "\n",
      "AlcoholConsumption\n",
      "---------------------------------------------\n",
      "[13.29721773  4.54252382 19.55508453 ...  4.59467018  8.67450518\n",
      "  7.89070315]\n",
      "\n",
      "PhysicalActivity\n",
      "---------------------------------------------\n",
      "[6.32711247 7.61988454 7.84498779 ... 9.88600229 6.35428175 6.57099338]\n",
      "\n",
      "DietQuality\n",
      "---------------------------------------------\n",
      "[1.34721431 0.51876714 1.82633466 ... 8.12002455 1.26342749 7.94140388]\n",
      "\n",
      "SleepQuality\n",
      "---------------------------------------------\n",
      "[9.02567867 7.15129274 9.67357416 ... 5.76946355 8.32287396 9.87871052]\n",
      "\n",
      "FamilyHistoryAlzheimers\n",
      "---------------------------------------------\n",
      "[0 1]\n",
      "\n",
      "CardiovascularDisease\n",
      "---------------------------------------------\n",
      "[0 1]\n",
      "\n",
      "Diabetes\n",
      "---------------------------------------------\n",
      "[1 0]\n",
      "\n",
      "Depression\n",
      "---------------------------------------------\n",
      "[1 0]\n",
      "\n",
      "HeadInjury\n",
      "---------------------------------------------\n",
      "[0 1]\n",
      "\n",
      "Hypertension\n",
      "---------------------------------------------\n",
      "[0 1]\n",
      "\n",
      "SystolicBP\n",
      "---------------------------------------------\n",
      "[142 115  99 118  94 168 143 117 130 131 165 145 137 124 148 154 132 144\n",
      " 120 178 106 153 177 134 107 114  91  90 129  97 157 164 158  98  93 147\n",
      " 102 127 162 136 105 150 100 156 121 173 161 119 163 126 169 108  96  92\n",
      " 125 149 104 122 160 133  95 139 140 112 155 111 172 166 141 175 176 146\n",
      " 135 101 116 123 152 174 110 167 138 170 151 128 103 159 109 179 113 171]\n",
      "\n",
      "DiastolicBP\n",
      "---------------------------------------------\n",
      "[ 72  64 116 115 117  62  88  63 119  78  86  97  82  98  61 107  93  89\n",
      "  71  95  81 112  77 104 114  75  60 110  74  96 100 106 118  92 113  70\n",
      "  79  90  80  94  76  84 105 102 103  87  73  83 111  66  85 101  68 109\n",
      " 108  91  69  65  67  99]\n",
      "\n",
      "CholesterolTotal\n",
      "---------------------------------------------\n",
      "[242.3668397  231.16259501 284.18185776 ... 237.02455797 242.19719201\n",
      " 283.39679689]\n",
      "\n",
      "CholesterolLDL\n",
      "---------------------------------------------\n",
      "[ 56.15089696 193.40799552 153.32276218 ... 156.26729364  52.48296064\n",
      "  92.20006443]\n",
      "\n",
      "CholesterolHDL\n",
      "---------------------------------------------\n",
      "[33.6825635  79.02847732 69.77229186 ... 99.67820898 81.28111102\n",
      " 81.92004333]\n",
      "\n",
      "CholesterolTriglycerides\n",
      "---------------------------------------------\n",
      "[162.18914308 294.63090921  83.63832414 ... 294.80233787 145.25374618\n",
      " 217.39687253]\n",
      "\n",
      "MMSE\n",
      "---------------------------------------------\n",
      "[21.46353236 20.61326731  7.35624862 ... 17.0110031   4.03049088\n",
      " 11.11477737]\n",
      "\n",
      "FunctionalAssessment\n",
      "---------------------------------------------\n",
      "[6.51887697 7.1186955  5.89507735 ... 1.97213657 5.17389096 6.30754331]\n",
      "\n",
      "MemoryComplaints\n",
      "---------------------------------------------\n",
      "[0 1]\n",
      "\n",
      "BehavioralProblems\n",
      "---------------------------------------------\n",
      "[0 1]\n",
      "\n",
      "ADL\n",
      "---------------------------------------------\n",
      "[1.72588346 2.59242413 7.11954774 ... 5.03633399 3.78539871 8.32756301]\n",
      "\n",
      "Confusion\n",
      "---------------------------------------------\n",
      "[0 1]\n",
      "\n",
      "Disorientation\n",
      "---------------------------------------------\n",
      "[0 1]\n",
      "\n",
      "PersonalityChanges\n",
      "---------------------------------------------\n",
      "[0 1]\n",
      "\n",
      "DifficultyCompletingTasks\n",
      "---------------------------------------------\n",
      "[1 0]\n",
      "\n",
      "Forgetfulness\n",
      "---------------------------------------------\n",
      "[0 1]\n",
      "\n",
      "Diagnosis\n",
      "---------------------------------------------\n",
      "[0 1]\n",
      "\n",
      "DoctorInCharge\n",
      "---------------------------------------------\n",
      "['XXXConfid']\n",
      "\n"
     ]
    }
   ],
   "source": [
    "for column in df.columns:\n",
    "    print(f\"{column}\")\n",
    "    print('-' * 45)\n",
    "    print(df[column].unique())\n",
    "    print()"
   ]
  },
  {
   "cell_type": "markdown",
   "id": "92f0a2e6",
   "metadata": {
    "papermill": {
     "duration": 0.015082,
     "end_time": "2025-02-20T09:14:13.466758",
     "exception": false,
     "start_time": "2025-02-20T09:14:13.451676",
     "status": "completed"
    },
    "tags": []
   },
   "source": [
    "# Profile Report"
   ]
  },
  {
   "cell_type": "code",
   "execution_count": 10,
   "id": "b0db6c0e",
   "metadata": {
    "execution": {
     "iopub.execute_input": "2025-02-20T09:14:13.499407Z",
     "iopub.status.busy": "2025-02-20T09:14:13.498940Z",
     "iopub.status.idle": "2025-02-20T09:14:13.504289Z",
     "shell.execute_reply": "2025-02-20T09:14:13.502547Z"
    },
    "papermill": {
     "duration": 0.025435,
     "end_time": "2025-02-20T09:14:13.507134",
     "exception": false,
     "start_time": "2025-02-20T09:14:13.481699",
     "status": "completed"
    },
    "tags": []
   },
   "outputs": [],
   "source": [
    "# ProfileReport(df)"
   ]
  },
  {
   "cell_type": "markdown",
   "id": "acb5c8f3",
   "metadata": {
    "papermill": {
     "duration": 0.015246,
     "end_time": "2025-02-20T09:14:13.537890",
     "exception": false,
     "start_time": "2025-02-20T09:14:13.522644",
     "status": "completed"
    },
    "tags": []
   },
   "source": [
    "# Dropping Unnecessary Columns"
   ]
  },
  {
   "cell_type": "code",
   "execution_count": 11,
   "id": "25eef2e6",
   "metadata": {
    "execution": {
     "iopub.execute_input": "2025-02-20T09:14:13.570200Z",
     "iopub.status.busy": "2025-02-20T09:14:13.569731Z",
     "iopub.status.idle": "2025-02-20T09:14:13.576131Z",
     "shell.execute_reply": "2025-02-20T09:14:13.574925Z"
    },
    "papermill": {
     "duration": 0.024932,
     "end_time": "2025-02-20T09:14:13.578105",
     "exception": false,
     "start_time": "2025-02-20T09:14:13.553173",
     "status": "completed"
    },
    "tags": []
   },
   "outputs": [],
   "source": [
    "df = df.drop(['DoctorInCharge', 'PatientID'], axis=1)"
   ]
  },
  {
   "cell_type": "code",
   "execution_count": 12,
   "id": "634690d5",
   "metadata": {
    "execution": {
     "iopub.execute_input": "2025-02-20T09:14:13.611006Z",
     "iopub.status.busy": "2025-02-20T09:14:13.610598Z",
     "iopub.status.idle": "2025-02-20T09:14:13.629441Z",
     "shell.execute_reply": "2025-02-20T09:14:13.628270Z"
    },
    "papermill": {
     "duration": 0.037315,
     "end_time": "2025-02-20T09:14:13.631473",
     "exception": false,
     "start_time": "2025-02-20T09:14:13.594158",
     "status": "completed"
    },
    "tags": []
   },
   "outputs": [
    {
     "data": {
      "text/html": [
       "<div>\n",
       "<style scoped>\n",
       "    .dataframe tbody tr th:only-of-type {\n",
       "        vertical-align: middle;\n",
       "    }\n",
       "\n",
       "    .dataframe tbody tr th {\n",
       "        vertical-align: top;\n",
       "    }\n",
       "\n",
       "    .dataframe thead th {\n",
       "        text-align: right;\n",
       "    }\n",
       "</style>\n",
       "<table border=\"1\" class=\"dataframe\">\n",
       "  <thead>\n",
       "    <tr style=\"text-align: right;\">\n",
       "      <th></th>\n",
       "      <th>Age</th>\n",
       "      <th>Gender</th>\n",
       "      <th>Ethnicity</th>\n",
       "      <th>EducationLevel</th>\n",
       "      <th>BMI</th>\n",
       "      <th>Smoking</th>\n",
       "      <th>AlcoholConsumption</th>\n",
       "      <th>PhysicalActivity</th>\n",
       "      <th>DietQuality</th>\n",
       "      <th>SleepQuality</th>\n",
       "      <th>...</th>\n",
       "      <th>FunctionalAssessment</th>\n",
       "      <th>MemoryComplaints</th>\n",
       "      <th>BehavioralProblems</th>\n",
       "      <th>ADL</th>\n",
       "      <th>Confusion</th>\n",
       "      <th>Disorientation</th>\n",
       "      <th>PersonalityChanges</th>\n",
       "      <th>DifficultyCompletingTasks</th>\n",
       "      <th>Forgetfulness</th>\n",
       "      <th>Diagnosis</th>\n",
       "    </tr>\n",
       "  </thead>\n",
       "  <tbody>\n",
       "    <tr>\n",
       "      <th>0</th>\n",
       "      <td>73</td>\n",
       "      <td>0</td>\n",
       "      <td>0</td>\n",
       "      <td>2</td>\n",
       "      <td>22.927749</td>\n",
       "      <td>0</td>\n",
       "      <td>13.297218</td>\n",
       "      <td>6.327112</td>\n",
       "      <td>1.347214</td>\n",
       "      <td>9.025679</td>\n",
       "      <td>...</td>\n",
       "      <td>6.518877</td>\n",
       "      <td>0</td>\n",
       "      <td>0</td>\n",
       "      <td>1.725883</td>\n",
       "      <td>0</td>\n",
       "      <td>0</td>\n",
       "      <td>0</td>\n",
       "      <td>1</td>\n",
       "      <td>0</td>\n",
       "      <td>0</td>\n",
       "    </tr>\n",
       "    <tr>\n",
       "      <th>1</th>\n",
       "      <td>89</td>\n",
       "      <td>0</td>\n",
       "      <td>0</td>\n",
       "      <td>0</td>\n",
       "      <td>26.827681</td>\n",
       "      <td>0</td>\n",
       "      <td>4.542524</td>\n",
       "      <td>7.619885</td>\n",
       "      <td>0.518767</td>\n",
       "      <td>7.151293</td>\n",
       "      <td>...</td>\n",
       "      <td>7.118696</td>\n",
       "      <td>0</td>\n",
       "      <td>0</td>\n",
       "      <td>2.592424</td>\n",
       "      <td>0</td>\n",
       "      <td>0</td>\n",
       "      <td>0</td>\n",
       "      <td>0</td>\n",
       "      <td>1</td>\n",
       "      <td>0</td>\n",
       "    </tr>\n",
       "    <tr>\n",
       "      <th>2</th>\n",
       "      <td>73</td>\n",
       "      <td>0</td>\n",
       "      <td>3</td>\n",
       "      <td>1</td>\n",
       "      <td>17.795882</td>\n",
       "      <td>0</td>\n",
       "      <td>19.555085</td>\n",
       "      <td>7.844988</td>\n",
       "      <td>1.826335</td>\n",
       "      <td>9.673574</td>\n",
       "      <td>...</td>\n",
       "      <td>5.895077</td>\n",
       "      <td>0</td>\n",
       "      <td>0</td>\n",
       "      <td>7.119548</td>\n",
       "      <td>0</td>\n",
       "      <td>1</td>\n",
       "      <td>0</td>\n",
       "      <td>1</td>\n",
       "      <td>0</td>\n",
       "      <td>0</td>\n",
       "    </tr>\n",
       "    <tr>\n",
       "      <th>3</th>\n",
       "      <td>74</td>\n",
       "      <td>1</td>\n",
       "      <td>0</td>\n",
       "      <td>1</td>\n",
       "      <td>33.800817</td>\n",
       "      <td>1</td>\n",
       "      <td>12.209266</td>\n",
       "      <td>8.428001</td>\n",
       "      <td>7.435604</td>\n",
       "      <td>8.392554</td>\n",
       "      <td>...</td>\n",
       "      <td>8.965106</td>\n",
       "      <td>0</td>\n",
       "      <td>1</td>\n",
       "      <td>6.481226</td>\n",
       "      <td>0</td>\n",
       "      <td>0</td>\n",
       "      <td>0</td>\n",
       "      <td>0</td>\n",
       "      <td>0</td>\n",
       "      <td>0</td>\n",
       "    </tr>\n",
       "    <tr>\n",
       "      <th>4</th>\n",
       "      <td>89</td>\n",
       "      <td>0</td>\n",
       "      <td>0</td>\n",
       "      <td>0</td>\n",
       "      <td>20.716974</td>\n",
       "      <td>0</td>\n",
       "      <td>18.454356</td>\n",
       "      <td>6.310461</td>\n",
       "      <td>0.795498</td>\n",
       "      <td>5.597238</td>\n",
       "      <td>...</td>\n",
       "      <td>6.045039</td>\n",
       "      <td>0</td>\n",
       "      <td>0</td>\n",
       "      <td>0.014691</td>\n",
       "      <td>0</td>\n",
       "      <td>0</td>\n",
       "      <td>1</td>\n",
       "      <td>1</td>\n",
       "      <td>0</td>\n",
       "      <td>0</td>\n",
       "    </tr>\n",
       "  </tbody>\n",
       "</table>\n",
       "<p>5 rows × 33 columns</p>\n",
       "</div>"
      ],
      "text/plain": [
       "   Age  Gender  Ethnicity  EducationLevel        BMI  Smoking  \\\n",
       "0   73       0          0               2  22.927749        0   \n",
       "1   89       0          0               0  26.827681        0   \n",
       "2   73       0          3               1  17.795882        0   \n",
       "3   74       1          0               1  33.800817        1   \n",
       "4   89       0          0               0  20.716974        0   \n",
       "\n",
       "   AlcoholConsumption  PhysicalActivity  DietQuality  SleepQuality  ...  \\\n",
       "0           13.297218          6.327112     1.347214      9.025679  ...   \n",
       "1            4.542524          7.619885     0.518767      7.151293  ...   \n",
       "2           19.555085          7.844988     1.826335      9.673574  ...   \n",
       "3           12.209266          8.428001     7.435604      8.392554  ...   \n",
       "4           18.454356          6.310461     0.795498      5.597238  ...   \n",
       "\n",
       "   FunctionalAssessment  MemoryComplaints  BehavioralProblems       ADL  \\\n",
       "0              6.518877                 0                   0  1.725883   \n",
       "1              7.118696                 0                   0  2.592424   \n",
       "2              5.895077                 0                   0  7.119548   \n",
       "3              8.965106                 0                   1  6.481226   \n",
       "4              6.045039                 0                   0  0.014691   \n",
       "\n",
       "   Confusion  Disorientation  PersonalityChanges  DifficultyCompletingTasks  \\\n",
       "0          0               0                   0                          1   \n",
       "1          0               0                   0                          0   \n",
       "2          0               1                   0                          1   \n",
       "3          0               0                   0                          0   \n",
       "4          0               0                   1                          1   \n",
       "\n",
       "   Forgetfulness  Diagnosis  \n",
       "0              0          0  \n",
       "1              1          0  \n",
       "2              0          0  \n",
       "3              0          0  \n",
       "4              0          0  \n",
       "\n",
       "[5 rows x 33 columns]"
      ]
     },
     "execution_count": 12,
     "metadata": {},
     "output_type": "execute_result"
    }
   ],
   "source": [
    "df.head()"
   ]
  },
  {
   "cell_type": "markdown",
   "id": "77467627",
   "metadata": {
    "papermill": {
     "duration": 0.018161,
     "end_time": "2025-02-20T09:14:13.665897",
     "exception": false,
     "start_time": "2025-02-20T09:14:13.647736",
     "status": "completed"
    },
    "tags": []
   },
   "source": [
    "# Outliers"
   ]
  },
  {
   "cell_type": "code",
   "execution_count": 13,
   "id": "899cecc8",
   "metadata": {
    "execution": {
     "iopub.execute_input": "2025-02-20T09:14:13.700428Z",
     "iopub.status.busy": "2025-02-20T09:14:13.700056Z",
     "iopub.status.idle": "2025-02-20T09:14:15.031996Z",
     "shell.execute_reply": "2025-02-20T09:14:15.030898Z"
    },
    "papermill": {
     "duration": 1.350902,
     "end_time": "2025-02-20T09:14:15.034063",
     "exception": false,
     "start_time": "2025-02-20T09:14:13.683161",
     "status": "completed"
    },
    "tags": []
   },
   "outputs": [
    {
     "name": "stdout",
     "output_type": "stream",
     "text": [
      "Axes(0.125,0.11;0.775x0.77)\n",
      "Axes(0.125,0.11;0.775x0.77)\n",
      "Axes(0.125,0.11;0.775x0.77)\n",
      "Axes(0.125,0.11;0.775x0.77)\n",
      "Axes(0.125,0.11;0.775x0.77)\n",
      "Axes(0.125,0.11;0.775x0.77)\n",
      "Axes(0.125,0.11;0.775x0.77)\n",
      "Axes(0.125,0.11;0.775x0.77)\n",
      "Axes(0.125,0.11;0.775x0.77)\n",
      "Axes(0.125,0.11;0.775x0.77)\n",
      "Axes(0.125,0.11;0.775x0.77)\n",
      "Axes(0.125,0.11;0.775x0.77)\n",
      "Axes(0.125,0.11;0.775x0.77)\n",
      "Axes(0.125,0.11;0.775x0.77)\n",
      "Axes(0.125,0.11;0.775x0.77)\n",
      "Axes(0.125,0.11;0.775x0.77)\n",
      "Axes(0.125,0.11;0.775x0.77)\n",
      "Axes(0.125,0.11;0.775x0.77)\n",
      "Axes(0.125,0.11;0.775x0.77)\n",
      "Axes(0.125,0.11;0.775x0.77)\n",
      "Axes(0.125,0.11;0.775x0.77)\n",
      "Axes(0.125,0.11;0.775x0.77)\n",
      "Axes(0.125,0.11;0.775x0.77)\n",
      "Axes(0.125,0.11;0.775x0.77)\n",
      "Axes(0.125,0.11;0.775x0.77)\n",
      "Axes(0.125,0.11;0.775x0.77)\n",
      "Axes(0.125,0.11;0.775x0.77)\n",
      "Axes(0.125,0.11;0.775x0.77)\n",
      "Axes(0.125,0.11;0.775x0.77)\n",
      "Axes(0.125,0.11;0.775x0.77)\n",
      "Axes(0.125,0.11;0.775x0.77)\n",
      "Axes(0.125,0.11;0.775x0.77)\n",
      "Axes(0.125,0.11;0.775x0.77)\n"
     ]
    },
    {
     "data": {
      "image/png": "[encoded data removed]",
      "text/plain": [
       "<Figure size 4500x1800 with 1 Axes>"
      ]
     },
     "metadata": {},
     "output_type": "display_data"
    }
   ],
   "source": [
    "sns.set(rc={\"figure.figsize\":(45, 18)})\n",
    "for column in df.columns:\n",
    "    print(sns.boxplot(x=df[column]))"
   ]
  },
  {
   "cell_type": "markdown",
   "id": "335e9f7a",
   "metadata": {
    "papermill": {
     "duration": 0.016717,
     "end_time": "2025-02-20T09:14:15.070726",
     "exception": false,
     "start_time": "2025-02-20T09:14:15.054009",
     "status": "completed"
    },
    "tags": []
   },
   "source": [
    "# Data Preparation for Model Training"
   ]
  },
  {
   "cell_type": "markdown",
   "id": "297ff3e7",
   "metadata": {
    "papermill": {
     "duration": 0.015776,
     "end_time": "2025-02-20T09:14:15.102371",
     "exception": false,
     "start_time": "2025-02-20T09:14:15.086595",
     "status": "completed"
    },
    "tags": []
   },
   "source": [
    "## Feature Selection"
   ]
  },
  {
   "cell_type": "code",
   "execution_count": 14,
   "id": "a13cb8db",
   "metadata": {
    "execution": {
     "iopub.execute_input": "2025-02-20T09:14:15.137189Z",
     "iopub.status.busy": "2025-02-20T09:14:15.136725Z",
     "iopub.status.idle": "2025-02-20T09:14:15.143365Z",
     "shell.execute_reply": "2025-02-20T09:14:15.142250Z"
    },
    "papermill": {
     "duration": 0.026104,
     "end_time": "2025-02-20T09:14:15.145173",
     "exception": false,
     "start_time": "2025-02-20T09:14:15.119069",
     "status": "completed"
    },
    "tags": []
   },
   "outputs": [],
   "source": [
    "df = df.drop([\n",
    "    'Ethnicity', 'EducationLevel', 'DietQuality',\n",
    "    'SystolicBP', 'DiastolicBP', 'CholesterolTotal',\n",
    "    'CholesterolLDL', 'CholesterolHDL', 'CholesterolTriglycerides',\n",
    "    'ADL',\n",
    "], axis=1)"
   ]
  },
  {
   "cell_type": "markdown",
   "id": "b253a798",
   "metadata": {
    "papermill": {
     "duration": 0.015034,
     "end_time": "2025-02-20T09:14:15.175713",
     "exception": false,
     "start_time": "2025-02-20T09:14:15.160679",
     "status": "completed"
    },
    "tags": []
   },
   "source": [
    "## Split Data"
   ]
  },
  {
   "cell_type": "code",
   "execution_count": 15,
   "id": "0c8d2e51",
   "metadata": {
    "execution": {
     "iopub.execute_input": "2025-02-20T09:14:15.207589Z",
     "iopub.status.busy": "2025-02-20T09:14:15.207254Z",
     "iopub.status.idle": "2025-02-20T09:14:15.213027Z",
     "shell.execute_reply": "2025-02-20T09:14:15.211970Z"
    },
    "papermill": {
     "duration": 0.023705,
     "end_time": "2025-02-20T09:14:15.214657",
     "exception": false,
     "start_time": "2025-02-20T09:14:15.190952",
     "status": "completed"
    },
    "tags": []
   },
   "outputs": [],
   "source": [
    "features = df.drop(['Diagnosis'], axis=1)\n",
    "label = df['Diagnosis']"
   ]
  },
  {
   "cell_type": "code",
   "execution_count": 16,
   "id": "b8243cf7",
   "metadata": {
    "execution": {
     "iopub.execute_input": "2025-02-20T09:14:15.246850Z",
     "iopub.status.busy": "2025-02-20T09:14:15.246456Z",
     "iopub.status.idle": "2025-02-20T09:14:15.255575Z",
     "shell.execute_reply": "2025-02-20T09:14:15.254422Z"
    },
    "papermill": {
     "duration": 0.027489,
     "end_time": "2025-02-20T09:14:15.257619",
     "exception": false,
     "start_time": "2025-02-20T09:14:15.230130",
     "status": "completed"
    },
    "tags": []
   },
   "outputs": [],
   "source": [
    "xtrain, xtest, ytrain, ytest = train_test_split(\n",
    "    features, label, test_size=.2, random_state=42, stratify=label\n",
    ")"
   ]
  },
  {
   "cell_type": "markdown",
   "id": "d2aaaaa2",
   "metadata": {
    "papermill": {
     "duration": 0.01525,
     "end_time": "2025-02-20T09:14:15.288880",
     "exception": false,
     "start_time": "2025-02-20T09:14:15.273630",
     "status": "completed"
    },
    "tags": []
   },
   "source": [
    "# ANN with Imbalanced Data"
   ]
  },
  {
   "cell_type": "code",
   "execution_count": 17,
   "id": "ada0e368",
   "metadata": {
    "execution": {
     "iopub.execute_input": "2025-02-20T09:14:15.322414Z",
     "iopub.status.busy": "2025-02-20T09:14:15.322060Z",
     "iopub.status.idle": "2025-02-20T09:14:15.328013Z",
     "shell.execute_reply": "2025-02-20T09:14:15.326897Z"
    },
    "papermill": {
     "duration": 0.024355,
     "end_time": "2025-02-20T09:14:15.329648",
     "exception": false,
     "start_time": "2025-02-20T09:14:15.305293",
     "status": "completed"
    },
    "tags": []
   },
   "outputs": [
    {
     "data": {
      "text/plain": [
       "(1719, 22)"
      ]
     },
     "execution_count": 17,
     "metadata": {},
     "output_type": "execute_result"
    }
   ],
   "source": [
    "xtrain.shape"
   ]
  },
  {
   "cell_type": "code",
   "execution_count": 18,
   "id": "2f35d827",
   "metadata": {
    "execution": {
     "iopub.execute_input": "2025-02-20T09:14:15.362628Z",
     "iopub.status.busy": "2025-02-20T09:14:15.362300Z",
     "iopub.status.idle": "2025-02-20T09:14:15.909930Z",
     "shell.execute_reply": "2025-02-20T09:14:15.908835Z"
    },
    "papermill": {
     "duration": 0.566043,
     "end_time": "2025-02-20T09:14:15.911552",
     "exception": false,
     "start_time": "2025-02-20T09:14:15.345509",
     "status": "completed"
    },
    "tags": []
   },
   "outputs": [
    {
     "data": {
      "text/plain": [
       "<Axes: >"
      ]
     },
     "execution_count": 18,
     "metadata": {},
     "output_type": "execute_result"
    },
    {
     "data": {
      "image/png": "[encoded data removed]",
      "text/plain": [
       "<Figure size 4500x1800 with 1 Axes>"
      ]
     },
     "metadata": {},
     "output_type": "display_data"
    }
   ],
   "source": [
    "ytrain.hist()"
   ]
  },
  {
   "cell_type": "code",
   "execution_count": 19,
   "id": "4f5977dc",
   "metadata": {
    "execution": {
     "iopub.execute_input": "2025-02-20T09:14:15.946061Z",
     "iopub.status.busy": "2025-02-20T09:14:15.945649Z",
     "iopub.status.idle": "2025-02-20T09:14:26.448136Z",
     "shell.execute_reply": "2025-02-20T09:14:26.447010Z"
    },
    "papermill": {
     "duration": 10.521823,
     "end_time": "2025-02-20T09:14:26.449921",
     "exception": false,
     "start_time": "2025-02-20T09:14:15.928098",
     "status": "completed"
    },
    "tags": []
   },
   "outputs": [
    {
     "name": "stdout",
     "output_type": "stream",
     "text": [
      "Epoch 1/50\n"
     ]
    },
    {
     "name": "stderr",
     "output_type": "stream",
     "text": [
      "/usr/local/lib/python3.10/dist-packages/keras/src/layers/core/dense.py:87: UserWarning: Do not pass an `input_shape`/`input_dim` argument to a layer. When using Sequential models, prefer using an `Input(shape)` object as the first layer in the model instead.\n",
      "  super().__init__(activity_regularizer=activity_regularizer, **kwargs)\n"
     ]
    },
    {
     "name": "stdout",
     "output_type": "stream",
     "text": [
      "\u001b[1m54/54\u001b[0m \u001b[32m━━━━━━━━━━━━━━━━━━━━\u001b[0m\u001b[37m\u001b[0m \u001b[1m2s\u001b[0m 6ms/step - accuracy: 0.5933 - loss: 1.0576 - val_accuracy: 0.7465 - val_loss: 0.5394\n",
      "Epoch 2/50\n",
      "\u001b[1m54/54\u001b[0m \u001b[32m━━━━━━━━━━━━━━━━━━━━\u001b[0m\u001b[37m\u001b[0m \u001b[1m0s\u001b[0m 2ms/step - accuracy: 0.7082 - loss: 0.5651 - val_accuracy: 0.7000 - val_loss: 0.5326\n",
      "Epoch 3/50\n",
      "\u001b[1m54/54\u001b[0m \u001b[32m━━━━━━━━━━━━━━━━━━━━\u001b[0m\u001b[37m\u001b[0m \u001b[1m0s\u001b[0m 2ms/step - accuracy: 0.7416 - loss: 0.5243 - val_accuracy: 0.7698 - val_loss: 0.4872\n",
      "Epoch 4/50\n",
      "\u001b[1m54/54\u001b[0m \u001b[32m━━━━━━━━━━━━━━━━━━━━\u001b[0m\u001b[37m\u001b[0m \u001b[1m0s\u001b[0m 2ms/step - accuracy: 0.7492 - loss: 0.5080 - val_accuracy: 0.7674 - val_loss: 0.5004\n",
      "Epoch 5/50\n",
      "\u001b[1m54/54\u001b[0m \u001b[32m━━━━━━━━━━━━━━━━━━━━\u001b[0m\u001b[37m\u001b[0m \u001b[1m0s\u001b[0m 2ms/step - accuracy: 0.7726 - loss: 0.4961 - val_accuracy: 0.7116 - val_loss: 0.5217\n",
      "Epoch 6/50\n",
      "\u001b[1m54/54\u001b[0m \u001b[32m━━━━━━━━━━━━━━━━━━━━\u001b[0m\u001b[37m\u001b[0m \u001b[1m0s\u001b[0m 3ms/step - accuracy: 0.7562 - loss: 0.4913 - val_accuracy: 0.7767 - val_loss: 0.4528\n",
      "Epoch 7/50\n",
      "\u001b[1m54/54\u001b[0m \u001b[32m━━━━━━━━━━━━━━━━━━━━\u001b[0m\u001b[37m\u001b[0m \u001b[1m0s\u001b[0m 2ms/step - accuracy: 0.7742 - loss: 0.4805 - val_accuracy: 0.7884 - val_loss: 0.4461\n",
      "Epoch 8/50\n",
      "\u001b[1m54/54\u001b[0m \u001b[32m━━━━━━━━━━━━━━━━━━━━\u001b[0m\u001b[37m\u001b[0m \u001b[1m0s\u001b[0m 2ms/step - accuracy: 0.7769 - loss: 0.4757 - val_accuracy: 0.7953 - val_loss: 0.4454\n",
      "Epoch 9/50\n",
      "\u001b[1m54/54\u001b[0m \u001b[32m━━━━━━━━━━━━━━━━━━━━\u001b[0m\u001b[37m\u001b[0m \u001b[1m0s\u001b[0m 3ms/step - accuracy: 0.7734 - loss: 0.4566 - val_accuracy: 0.7884 - val_loss: 0.4377\n",
      "Epoch 10/50\n",
      "\u001b[1m54/54\u001b[0m \u001b[32m━━━━━━━━━━━━━━━━━━━━\u001b[0m\u001b[37m\u001b[0m \u001b[1m0s\u001b[0m 3ms/step - accuracy: 0.7653 - loss: 0.4673 - val_accuracy: 0.7930 - val_loss: 0.4301\n",
      "Epoch 11/50\n",
      "\u001b[1m54/54\u001b[0m \u001b[32m━━━━━━━━━━━━━━━━━━━━\u001b[0m\u001b[37m\u001b[0m \u001b[1m0s\u001b[0m 3ms/step - accuracy: 0.7820 - loss: 0.4497 - val_accuracy: 0.8070 - val_loss: 0.4319\n",
      "Epoch 12/50\n",
      "\u001b[1m54/54\u001b[0m \u001b[32m━━━━━━━━━━━━━━━━━━━━\u001b[0m\u001b[37m\u001b[0m \u001b[1m0s\u001b[0m 3ms/step - accuracy: 0.7653 - loss: 0.4695 - val_accuracy: 0.7767 - val_loss: 0.4475\n",
      "Epoch 13/50\n",
      "\u001b[1m54/54\u001b[0m \u001b[32m━━━━━━━━━━━━━━━━━━━━\u001b[0m\u001b[37m\u001b[0m \u001b[1m0s\u001b[0m 3ms/step - accuracy: 0.7765 - loss: 0.4403 - val_accuracy: 0.7651 - val_loss: 0.4725\n",
      "Epoch 14/50\n",
      "\u001b[1m54/54\u001b[0m \u001b[32m━━━━━━━━━━━━━━━━━━━━\u001b[0m\u001b[37m\u001b[0m \u001b[1m0s\u001b[0m 3ms/step - accuracy: 0.7872 - loss: 0.4410 - val_accuracy: 0.7860 - val_loss: 0.4420\n",
      "Epoch 15/50\n",
      "\u001b[1m54/54\u001b[0m \u001b[32m━━━━━━━━━━━━━━━━━━━━\u001b[0m\u001b[37m\u001b[0m \u001b[1m0s\u001b[0m 3ms/step - accuracy: 0.7839 - loss: 0.4452 - val_accuracy: 0.7977 - val_loss: 0.4301\n",
      "Epoch 16/50\n",
      "\u001b[1m54/54\u001b[0m \u001b[32m━━━━━━━━━━━━━━━━━━━━\u001b[0m\u001b[37m\u001b[0m \u001b[1m0s\u001b[0m 2ms/step - accuracy: 0.7848 - loss: 0.4348 - val_accuracy: 0.7953 - val_loss: 0.4403\n",
      "Epoch 17/50\n",
      "\u001b[1m54/54\u001b[0m \u001b[32m━━━━━━━━━━━━━━━━━━━━\u001b[0m\u001b[37m\u001b[0m \u001b[1m0s\u001b[0m 3ms/step - accuracy: 0.7892 - loss: 0.4227 - val_accuracy: 0.7907 - val_loss: 0.4350\n",
      "Epoch 18/50\n",
      "\u001b[1m54/54\u001b[0m \u001b[32m━━━━━━━━━━━━━━━━━━━━\u001b[0m\u001b[37m\u001b[0m \u001b[1m0s\u001b[0m 3ms/step - accuracy: 0.8016 - loss: 0.4070 - val_accuracy: 0.7977 - val_loss: 0.4348\n",
      "Epoch 19/50\n",
      "\u001b[1m54/54\u001b[0m \u001b[32m━━━━━━━━━━━━━━━━━━━━\u001b[0m\u001b[37m\u001b[0m \u001b[1m0s\u001b[0m 3ms/step - accuracy: 0.7904 - loss: 0.4311 - val_accuracy: 0.7953 - val_loss: 0.4197\n",
      "Epoch 20/50\n",
      "\u001b[1m54/54\u001b[0m \u001b[32m━━━━━━━━━━━━━━━━━━━━\u001b[0m\u001b[37m\u001b[0m \u001b[1m0s\u001b[0m 3ms/step - accuracy: 0.7899 - loss: 0.4334 - val_accuracy: 0.7837 - val_loss: 0.4348\n",
      "Epoch 21/50\n",
      "\u001b[1m54/54\u001b[0m \u001b[32m━━━━━━━━━━━━━━━━━━━━\u001b[0m\u001b[37m\u001b[0m \u001b[1m0s\u001b[0m 2ms/step - accuracy: 0.7981 - loss: 0.4448 - val_accuracy: 0.7837 - val_loss: 0.4366\n",
      "Epoch 22/50\n",
      "\u001b[1m54/54\u001b[0m \u001b[32m━━━━━━━━━━━━━━━━━━━━\u001b[0m\u001b[37m\u001b[0m \u001b[1m0s\u001b[0m 3ms/step - accuracy: 0.7974 - loss: 0.4092 - val_accuracy: 0.7884 - val_loss: 0.4424\n",
      "Epoch 23/50\n",
      "\u001b[1m54/54\u001b[0m \u001b[32m━━━━━━━━━━━━━━━━━━━━\u001b[0m\u001b[37m\u001b[0m \u001b[1m0s\u001b[0m 3ms/step - accuracy: 0.7975 - loss: 0.4154 - val_accuracy: 0.8023 - val_loss: 0.4183\n",
      "Epoch 24/50\n",
      "\u001b[1m54/54\u001b[0m \u001b[32m━━━━━━━━━━━━━━━━━━━━\u001b[0m\u001b[37m\u001b[0m \u001b[1m0s\u001b[0m 3ms/step - accuracy: 0.8041 - loss: 0.4380 - val_accuracy: 0.7651 - val_loss: 0.4793\n",
      "Epoch 25/50\n",
      "\u001b[1m54/54\u001b[0m \u001b[32m━━━━━━━━━━━━━━━━━━━━\u001b[0m\u001b[37m\u001b[0m \u001b[1m0s\u001b[0m 3ms/step - accuracy: 0.7894 - loss: 0.4262 - val_accuracy: 0.7860 - val_loss: 0.4444\n",
      "Epoch 26/50\n",
      "\u001b[1m54/54\u001b[0m \u001b[32m━━━━━━━━━━━━━━━━━━━━\u001b[0m\u001b[37m\u001b[0m \u001b[1m0s\u001b[0m 3ms/step - accuracy: 0.8024 - loss: 0.4013 - val_accuracy: 0.8209 - val_loss: 0.4135\n",
      "Epoch 27/50\n",
      "\u001b[1m54/54\u001b[0m \u001b[32m━━━━━━━━━━━━━━━━━━━━\u001b[0m\u001b[37m\u001b[0m \u001b[1m0s\u001b[0m 2ms/step - accuracy: 0.7863 - loss: 0.4074 - val_accuracy: 0.7907 - val_loss: 0.4338\n",
      "Epoch 28/50\n",
      "\u001b[1m54/54\u001b[0m \u001b[32m━━━━━━━━━━━━━━━━━━━━\u001b[0m\u001b[37m\u001b[0m \u001b[1m0s\u001b[0m 3ms/step - accuracy: 0.7822 - loss: 0.4333 - val_accuracy: 0.7767 - val_loss: 0.4558\n",
      "Epoch 29/50\n",
      "\u001b[1m54/54\u001b[0m \u001b[32m━━━━━━━━━━━━━━━━━━━━\u001b[0m\u001b[37m\u001b[0m \u001b[1m0s\u001b[0m 3ms/step - accuracy: 0.7948 - loss: 0.4145 - val_accuracy: 0.8000 - val_loss: 0.4171\n",
      "Epoch 30/50\n",
      "\u001b[1m54/54\u001b[0m \u001b[32m━━━━━━━━━━━━━━━━━━━━\u001b[0m\u001b[37m\u001b[0m \u001b[1m0s\u001b[0m 3ms/step - accuracy: 0.7946 - loss: 0.4236 - val_accuracy: 0.7884 - val_loss: 0.4334\n",
      "Epoch 31/50\n",
      "\u001b[1m54/54\u001b[0m \u001b[32m━━━━━━━━━━━━━━━━━━━━\u001b[0m\u001b[37m\u001b[0m \u001b[1m0s\u001b[0m 2ms/step - accuracy: 0.8182 - loss: 0.3959 - val_accuracy: 0.7907 - val_loss: 0.4393\n",
      "Epoch 32/50\n",
      "\u001b[1m54/54\u001b[0m \u001b[32m━━━━━━━━━━━━━━━━━━━━\u001b[0m\u001b[37m\u001b[0m \u001b[1m0s\u001b[0m 2ms/step - accuracy: 0.7794 - loss: 0.4524 - val_accuracy: 0.7930 - val_loss: 0.4165\n",
      "Epoch 33/50\n",
      "\u001b[1m54/54\u001b[0m \u001b[32m━━━━━━━━━━━━━━━━━━━━\u001b[0m\u001b[37m\u001b[0m \u001b[1m0s\u001b[0m 2ms/step - accuracy: 0.7903 - loss: 0.4026 - val_accuracy: 0.7977 - val_loss: 0.4207\n",
      "Epoch 34/50\n",
      "\u001b[1m54/54\u001b[0m \u001b[32m━━━━━━━━━━━━━━━━━━━━\u001b[0m\u001b[37m\u001b[0m \u001b[1m0s\u001b[0m 2ms/step - accuracy: 0.8181 - loss: 0.3900 - val_accuracy: 0.8023 - val_loss: 0.4267\n",
      "Epoch 35/50\n",
      "\u001b[1m54/54\u001b[0m \u001b[32m━━━━━━━━━━━━━━━━━━━━\u001b[0m\u001b[37m\u001b[0m \u001b[1m0s\u001b[0m 2ms/step - accuracy: 0.8134 - loss: 0.3747 - val_accuracy: 0.7930 - val_loss: 0.4310\n",
      "Epoch 36/50\n",
      "\u001b[1m54/54\u001b[0m \u001b[32m━━━━━━━━━━━━━━━━━━━━\u001b[0m\u001b[37m\u001b[0m \u001b[1m0s\u001b[0m 2ms/step - accuracy: 0.8010 - loss: 0.4028 - val_accuracy: 0.7953 - val_loss: 0.4207\n",
      "Epoch 37/50\n",
      "\u001b[1m54/54\u001b[0m \u001b[32m━━━━━━━━━━━━━━━━━━━━\u001b[0m\u001b[37m\u001b[0m \u001b[1m0s\u001b[0m 3ms/step - accuracy: 0.7919 - loss: 0.4167 - val_accuracy: 0.7837 - val_loss: 0.4269\n",
      "Epoch 38/50\n",
      "\u001b[1m54/54\u001b[0m \u001b[32m━━━━━━━━━━━━━━━━━━━━\u001b[0m\u001b[37m\u001b[0m \u001b[1m0s\u001b[0m 3ms/step - accuracy: 0.8002 - loss: 0.4034 - val_accuracy: 0.8000 - val_loss: 0.4386\n",
      "Epoch 39/50\n",
      "\u001b[1m54/54\u001b[0m \u001b[32m━━━━━━━━━━━━━━━━━━━━\u001b[0m\u001b[37m\u001b[0m \u001b[1m0s\u001b[0m 3ms/step - accuracy: 0.7990 - loss: 0.3974 - val_accuracy: 0.8047 - val_loss: 0.4259\n",
      "Epoch 40/50\n",
      "\u001b[1m54/54\u001b[0m \u001b[32m━━━━━━━━━━━━━━━━━━━━\u001b[0m\u001b[37m\u001b[0m \u001b[1m0s\u001b[0m 3ms/step - accuracy: 0.8180 - loss: 0.3809 - val_accuracy: 0.8140 - val_loss: 0.4338\n",
      "Epoch 41/50\n",
      "\u001b[1m54/54\u001b[0m \u001b[32m━━━━━━━━━━━━━━━━━━━━\u001b[0m\u001b[37m\u001b[0m \u001b[1m0s\u001b[0m 4ms/step - accuracy: 0.7812 - loss: 0.4207 - val_accuracy: 0.8047 - val_loss: 0.4281\n",
      "Epoch 42/50\n",
      "\u001b[1m54/54\u001b[0m \u001b[32m━━━━━━━━━━━━━━━━━━━━\u001b[0m\u001b[37m\u001b[0m \u001b[1m0s\u001b[0m 3ms/step - accuracy: 0.8075 - loss: 0.3737 - val_accuracy: 0.7721 - val_loss: 0.4659\n",
      "Epoch 43/50\n",
      "\u001b[1m54/54\u001b[0m \u001b[32m━━━━━━━━━━━━━━━━━━━━\u001b[0m\u001b[37m\u001b[0m \u001b[1m0s\u001b[0m 3ms/step - accuracy: 0.8078 - loss: 0.3884 - val_accuracy: 0.7884 - val_loss: 0.4520\n",
      "Epoch 44/50\n",
      "\u001b[1m54/54\u001b[0m \u001b[32m━━━━━━━━━━━━━━━━━━━━\u001b[0m\u001b[37m\u001b[0m \u001b[1m0s\u001b[0m 2ms/step - accuracy: 0.7906 - loss: 0.3980 - val_accuracy: 0.7953 - val_loss: 0.4510\n",
      "Epoch 45/50\n",
      "\u001b[1m54/54\u001b[0m \u001b[32m━━━━━━━━━━━━━━━━━━━━\u001b[0m\u001b[37m\u001b[0m \u001b[1m0s\u001b[0m 3ms/step - accuracy: 0.8070 - loss: 0.3873 - val_accuracy: 0.7977 - val_loss: 0.4261\n",
      "Epoch 46/50\n",
      "\u001b[1m54/54\u001b[0m \u001b[32m━━━━━━━━━━━━━━━━━━━━\u001b[0m\u001b[37m\u001b[0m \u001b[1m0s\u001b[0m 2ms/step - accuracy: 0.8109 - loss: 0.3740 - val_accuracy: 0.8070 - val_loss: 0.4328\n",
      "Epoch 47/50\n",
      "\u001b[1m54/54\u001b[0m \u001b[32m━━━━━━━━━━━━━━━━━━━━\u001b[0m\u001b[37m\u001b[0m \u001b[1m0s\u001b[0m 2ms/step - accuracy: 0.8099 - loss: 0.3825 - val_accuracy: 0.7837 - val_loss: 0.4642\n",
      "Epoch 48/50\n",
      "\u001b[1m54/54\u001b[0m \u001b[32m━━━━━━━━━━━━━━━━━━━━\u001b[0m\u001b[37m\u001b[0m \u001b[1m0s\u001b[0m 3ms/step - accuracy: 0.7913 - loss: 0.4036 - val_accuracy: 0.7837 - val_loss: 0.4462\n",
      "Epoch 49/50\n",
      "\u001b[1m54/54\u001b[0m \u001b[32m━━━━━━━━━━━━━━━━━━━━\u001b[0m\u001b[37m\u001b[0m \u001b[1m0s\u001b[0m 2ms/step - accuracy: 0.8144 - loss: 0.3698 - val_accuracy: 0.7977 - val_loss: 0.4371\n",
      "Epoch 50/50\n",
      "\u001b[1m54/54\u001b[0m \u001b[32m━━━━━━━━━━━━━━━━━━━━\u001b[0m\u001b[37m\u001b[0m \u001b[1m0s\u001b[0m 2ms/step - accuracy: 0.8245 - loss: 0.3565 - val_accuracy: 0.8047 - val_loss: 0.4278\n"
     ]
    },
    {
     "data": {
      "text/plain": [
       "<keras.src.callbacks.history.History at 0x79ab32e3f040>"
      ]
     },
     "execution_count": 19,
     "metadata": {},
     "output_type": "execute_result"
    }
   ],
   "source": [
    "imbal_model = keras.Sequential([\n",
    "    keras.layers.Dense(128, activation='relu', input_shape=(xtrain.shape[1],)),\n",
    "    keras.layers.Dense(64, activation='relu'),\n",
    "    keras.layers.Dense(32, activation='relu'),\n",
    "    keras.layers.Dense(1, activation='sigmoid')\n",
    "])\n",
    "imbal_model.compile(optimizer='adam', loss='binary_crossentropy', metrics=['accuracy'])\n",
    "imbal_model.fit(xtrain, ytrain, epochs=50, validation_data=(xtest, ytest))"
   ]
  },
  {
   "cell_type": "markdown",
   "id": "f515cadb",
   "metadata": {
    "papermill": {
     "duration": 0.089314,
     "end_time": "2025-02-20T09:14:26.568857",
     "exception": false,
     "start_time": "2025-02-20T09:14:26.479543",
     "status": "completed"
    },
    "tags": []
   },
   "source": [
    "## Accuracy"
   ]
  },
  {
   "cell_type": "code",
   "execution_count": 20,
   "id": "a7dda1fc",
   "metadata": {
    "execution": {
     "iopub.execute_input": "2025-02-20T09:14:26.627814Z",
     "iopub.status.busy": "2025-02-20T09:14:26.627396Z",
     "iopub.status.idle": "2025-02-20T09:14:26.726715Z",
     "shell.execute_reply": "2025-02-20T09:14:26.725379Z"
    },
    "papermill": {
     "duration": 0.130845,
     "end_time": "2025-02-20T09:14:26.728522",
     "exception": false,
     "start_time": "2025-02-20T09:14:26.597677",
     "status": "completed"
    },
    "tags": []
   },
   "outputs": [
    {
     "name": "stdout",
     "output_type": "stream",
     "text": [
      "14/14 - 0s - 3ms/step - accuracy: 0.8047 - loss: 0.4278\n"
     ]
    },
    {
     "data": {
      "text/plain": [
       "[0.4278211295604706, 0.804651141166687]"
      ]
     },
     "execution_count": 20,
     "metadata": {},
     "output_type": "execute_result"
    }
   ],
   "source": [
    "imbal_model.evaluate(xtest, ytest, verbose=2)"
   ]
  },
  {
   "cell_type": "code",
   "execution_count": 21,
   "id": "fdee0b77",
   "metadata": {
    "execution": {
     "iopub.execute_input": "2025-02-20T09:14:26.790986Z",
     "iopub.status.busy": "2025-02-20T09:14:26.790585Z",
     "iopub.status.idle": "2025-02-20T09:14:26.978530Z",
     "shell.execute_reply": "2025-02-20T09:14:26.977350Z"
    },
    "papermill": {
     "duration": 0.221399,
     "end_time": "2025-02-20T09:14:26.980521",
     "exception": false,
     "start_time": "2025-02-20T09:14:26.759122",
     "status": "completed"
    },
    "tags": []
   },
   "outputs": [
    {
     "name": "stdout",
     "output_type": "stream",
     "text": [
      "\u001b[1m14/14\u001b[0m \u001b[32m━━━━━━━━━━━━━━━━━━━━\u001b[0m\u001b[37m\u001b[0m \u001b[1m0s\u001b[0m 4ms/step\n"
     ]
    }
   ],
   "source": [
    "ypred = imbal_model.predict(xtest)"
   ]
  },
  {
   "cell_type": "code",
   "execution_count": 22,
   "id": "5ac8069f",
   "metadata": {
    "execution": {
     "iopub.execute_input": "2025-02-20T09:14:27.042748Z",
     "iopub.status.busy": "2025-02-20T09:14:27.042353Z",
     "iopub.status.idle": "2025-02-20T09:14:27.046941Z",
     "shell.execute_reply": "2025-02-20T09:14:27.046040Z"
    },
    "papermill": {
     "duration": 0.037477,
     "end_time": "2025-02-20T09:14:27.048606",
     "exception": false,
     "start_time": "2025-02-20T09:14:27.011129",
     "status": "completed"
    },
    "tags": []
   },
   "outputs": [],
   "source": [
    "y_pred = (ypred > .5).astype(int)  # Convert probabilities to binary"
   ]
  },
  {
   "cell_type": "code",
   "execution_count": 23,
   "id": "5da0384f",
   "metadata": {
    "execution": {
     "iopub.execute_input": "2025-02-20T09:14:27.110553Z",
     "iopub.status.busy": "2025-02-20T09:14:27.110173Z",
     "iopub.status.idle": "2025-02-20T09:14:27.118102Z",
     "shell.execute_reply": "2025-02-20T09:14:27.117131Z"
    },
    "papermill": {
     "duration": 0.041259,
     "end_time": "2025-02-20T09:14:27.119661",
     "exception": false,
     "start_time": "2025-02-20T09:14:27.078402",
     "status": "completed"
    },
    "tags": []
   },
   "outputs": [
    {
     "data": {
      "text/plain": [
       "0.8046511627906977"
      ]
     },
     "execution_count": 23,
     "metadata": {},
     "output_type": "execute_result"
    }
   ],
   "source": [
    "accuracy_score(ytest, y_pred)"
   ]
  },
  {
   "cell_type": "code",
   "execution_count": 24,
   "id": "f1729e95",
   "metadata": {
    "execution": {
     "iopub.execute_input": "2025-02-20T09:14:27.184692Z",
     "iopub.status.busy": "2025-02-20T09:14:27.184346Z",
     "iopub.status.idle": "2025-02-20T09:14:27.198383Z",
     "shell.execute_reply": "2025-02-20T09:14:27.197024Z"
    },
    "papermill": {
     "duration": 0.049591,
     "end_time": "2025-02-20T09:14:27.200342",
     "exception": false,
     "start_time": "2025-02-20T09:14:27.150751",
     "status": "completed"
    },
    "tags": []
   },
   "outputs": [
    {
     "name": "stdout",
     "output_type": "stream",
     "text": [
      "              precision    recall  f1-score   support\n",
      "\n",
      "           0       0.86      0.84      0.85       278\n",
      "           1       0.72      0.74      0.73       152\n",
      "\n",
      "    accuracy                           0.80       430\n",
      "   macro avg       0.79      0.79      0.79       430\n",
      "weighted avg       0.81      0.80      0.81       430\n",
      "\n"
     ]
    }
   ],
   "source": [
    "# Classification report\n",
    "print(classification_report(ytest, y_pred))"
   ]
  },
  {
   "cell_type": "code",
   "execution_count": 25,
   "id": "612ad540",
   "metadata": {
    "execution": {
     "iopub.execute_input": "2025-02-20T09:14:27.261339Z",
     "iopub.status.busy": "2025-02-20T09:14:27.260941Z",
     "iopub.status.idle": "2025-02-20T09:14:27.808937Z",
     "shell.execute_reply": "2025-02-20T09:14:27.807855Z"
    },
    "papermill": {
     "duration": 0.580182,
     "end_time": "2025-02-20T09:14:27.810676",
     "exception": false,
     "start_time": "2025-02-20T09:14:27.230494",
     "status": "completed"
    },
    "tags": []
   },
   "outputs": [
    {
     "data": {
      "text/plain": [
       "<Axes: >"
      ]
     },
     "execution_count": 25,
     "metadata": {},
     "output_type": "execute_result"
    },
    {
     "data": {
      "image/png": "[encoded data removed]",
      "text/plain": [
       "<Figure size 4500x1800 with 2 Axes>"
      ]
     },
     "metadata": {},
     "output_type": "display_data"
    }
   ],
   "source": [
    "# Confusion matrix\n",
    "cm = confusion_matrix(ytest, y_pred)\n",
    "sns.heatmap(cm, annot=True, fmt=\"d\", cmap=\"Blues\")"
   ]
  },
  {
   "cell_type": "markdown",
   "id": "55498a4c",
   "metadata": {
    "papermill": {
     "duration": 0.030468,
     "end_time": "2025-02-20T09:14:27.871432",
     "exception": false,
     "start_time": "2025-02-20T09:14:27.840964",
     "status": "completed"
    },
    "tags": []
   },
   "source": [
    "# ANN Balanced Model"
   ]
  },
  {
   "cell_type": "code",
   "execution_count": 26,
   "id": "2e65bdec",
   "metadata": {
    "execution": {
     "iopub.execute_input": "2025-02-20T09:14:27.934436Z",
     "iopub.status.busy": "2025-02-20T09:14:27.934058Z",
     "iopub.status.idle": "2025-02-20T09:14:27.940773Z",
     "shell.execute_reply": "2025-02-20T09:14:27.939748Z"
    },
    "papermill": {
     "duration": 0.040552,
     "end_time": "2025-02-20T09:14:27.942486",
     "exception": false,
     "start_time": "2025-02-20T09:14:27.901934",
     "status": "completed"
    },
    "tags": []
   },
   "outputs": [],
   "source": [
    "negative_class = df[df['Diagnosis'] == 0]\n",
    "positive_class = df[df['Diagnosis'] == 1]"
   ]
  },
  {
   "cell_type": "code",
   "execution_count": 27,
   "id": "4b6f86b5",
   "metadata": {
    "execution": {
     "iopub.execute_input": "2025-02-20T09:14:28.004640Z",
     "iopub.status.busy": "2025-02-20T09:14:28.004268Z",
     "iopub.status.idle": "2025-02-20T09:14:28.010859Z",
     "shell.execute_reply": "2025-02-20T09:14:28.009695Z"
    },
    "papermill": {
     "duration": 0.03994,
     "end_time": "2025-02-20T09:14:28.012619",
     "exception": false,
     "start_time": "2025-02-20T09:14:27.972679",
     "status": "completed"
    },
    "tags": []
   },
   "outputs": [
    {
     "data": {
      "text/plain": [
       "(1389, 23)"
      ]
     },
     "execution_count": 27,
     "metadata": {},
     "output_type": "execute_result"
    }
   ],
   "source": [
    "negative_class.shape"
   ]
  },
  {
   "cell_type": "code",
   "execution_count": 28,
   "id": "92f7c89b",
   "metadata": {
    "execution": {
     "iopub.execute_input": "2025-02-20T09:14:28.075888Z",
     "iopub.status.busy": "2025-02-20T09:14:28.075486Z",
     "iopub.status.idle": "2025-02-20T09:14:28.081066Z",
     "shell.execute_reply": "2025-02-20T09:14:28.080007Z"
    },
    "papermill": {
     "duration": 0.038747,
     "end_time": "2025-02-20T09:14:28.082682",
     "exception": false,
     "start_time": "2025-02-20T09:14:28.043935",
     "status": "completed"
    },
    "tags": []
   },
   "outputs": [
    {
     "data": {
      "text/plain": [
       "(760, 23)"
      ]
     },
     "execution_count": 28,
     "metadata": {},
     "output_type": "execute_result"
    }
   ],
   "source": [
    "positive_class.shape"
   ]
  },
  {
   "cell_type": "markdown",
   "id": "48c5dd09",
   "metadata": {
    "papermill": {
     "duration": 0.031099,
     "end_time": "2025-02-20T09:14:28.144864",
     "exception": false,
     "start_time": "2025-02-20T09:14:28.113765",
     "status": "completed"
    },
    "tags": []
   },
   "source": [
    "## Undersampled Training Data"
   ]
  },
  {
   "cell_type": "code",
   "execution_count": 29,
   "id": "2e79a49c",
   "metadata": {
    "execution": {
     "iopub.execute_input": "2025-02-20T09:14:28.207261Z",
     "iopub.status.busy": "2025-02-20T09:14:28.206909Z",
     "iopub.status.idle": "2025-02-20T09:14:28.212966Z",
     "shell.execute_reply": "2025-02-20T09:14:28.211934Z"
    },
    "papermill": {
     "duration": 0.039098,
     "end_time": "2025-02-20T09:14:28.214735",
     "exception": false,
     "start_time": "2025-02-20T09:14:28.175637",
     "status": "completed"
    },
    "tags": []
   },
   "outputs": [],
   "source": [
    "undersampled_negative = negative_class.sample(positive_class.shape[0])\n",
    "undersampled_df = pd.concat([undersampled_negative, positive_class], axis=0)"
   ]
  },
  {
   "cell_type": "code",
   "execution_count": 30,
   "id": "604f6361",
   "metadata": {
    "execution": {
     "iopub.execute_input": "2025-02-20T09:14:28.276410Z",
     "iopub.status.busy": "2025-02-20T09:14:28.276076Z",
     "iopub.status.idle": "2025-02-20T09:14:28.296420Z",
     "shell.execute_reply": "2025-02-20T09:14:28.295325Z"
    },
    "papermill": {
     "duration": 0.053296,
     "end_time": "2025-02-20T09:14:28.298281",
     "exception": false,
     "start_time": "2025-02-20T09:14:28.244985",
     "status": "completed"
    },
    "tags": []
   },
   "outputs": [
    {
     "data": {
      "text/html": [
       "<div>\n",
       "<style scoped>\n",
       "    .dataframe tbody tr th:only-of-type {\n",
       "        vertical-align: middle;\n",
       "    }\n",
       "\n",
       "    .dataframe tbody tr th {\n",
       "        vertical-align: top;\n",
       "    }\n",
       "\n",
       "    .dataframe thead th {\n",
       "        text-align: right;\n",
       "    }\n",
       "</style>\n",
       "<table border=\"1\" class=\"dataframe\">\n",
       "  <thead>\n",
       "    <tr style=\"text-align: right;\">\n",
       "      <th></th>\n",
       "      <th>Age</th>\n",
       "      <th>Gender</th>\n",
       "      <th>BMI</th>\n",
       "      <th>Smoking</th>\n",
       "      <th>AlcoholConsumption</th>\n",
       "      <th>PhysicalActivity</th>\n",
       "      <th>SleepQuality</th>\n",
       "      <th>FamilyHistoryAlzheimers</th>\n",
       "      <th>CardiovascularDisease</th>\n",
       "      <th>Diabetes</th>\n",
       "      <th>...</th>\n",
       "      <th>MMSE</th>\n",
       "      <th>FunctionalAssessment</th>\n",
       "      <th>MemoryComplaints</th>\n",
       "      <th>BehavioralProblems</th>\n",
       "      <th>Confusion</th>\n",
       "      <th>Disorientation</th>\n",
       "      <th>PersonalityChanges</th>\n",
       "      <th>DifficultyCompletingTasks</th>\n",
       "      <th>Forgetfulness</th>\n",
       "      <th>Diagnosis</th>\n",
       "    </tr>\n",
       "  </thead>\n",
       "  <tbody>\n",
       "    <tr>\n",
       "      <th>1757</th>\n",
       "      <td>65</td>\n",
       "      <td>0</td>\n",
       "      <td>28.761052</td>\n",
       "      <td>0</td>\n",
       "      <td>2.481086</td>\n",
       "      <td>1.086429</td>\n",
       "      <td>7.154911</td>\n",
       "      <td>0</td>\n",
       "      <td>0</td>\n",
       "      <td>1</td>\n",
       "      <td>...</td>\n",
       "      <td>3.002978</td>\n",
       "      <td>5.217427</td>\n",
       "      <td>0</td>\n",
       "      <td>0</td>\n",
       "      <td>0</td>\n",
       "      <td>0</td>\n",
       "      <td>1</td>\n",
       "      <td>0</td>\n",
       "      <td>0</td>\n",
       "      <td>0</td>\n",
       "    </tr>\n",
       "    <tr>\n",
       "      <th>1435</th>\n",
       "      <td>65</td>\n",
       "      <td>0</td>\n",
       "      <td>28.706150</td>\n",
       "      <td>0</td>\n",
       "      <td>0.958032</td>\n",
       "      <td>9.163547</td>\n",
       "      <td>6.313219</td>\n",
       "      <td>1</td>\n",
       "      <td>0</td>\n",
       "      <td>0</td>\n",
       "      <td>...</td>\n",
       "      <td>26.003327</td>\n",
       "      <td>8.843941</td>\n",
       "      <td>1</td>\n",
       "      <td>0</td>\n",
       "      <td>0</td>\n",
       "      <td>1</td>\n",
       "      <td>0</td>\n",
       "      <td>0</td>\n",
       "      <td>0</td>\n",
       "      <td>0</td>\n",
       "    </tr>\n",
       "    <tr>\n",
       "      <th>1402</th>\n",
       "      <td>67</td>\n",
       "      <td>1</td>\n",
       "      <td>27.790551</td>\n",
       "      <td>0</td>\n",
       "      <td>19.029173</td>\n",
       "      <td>5.284802</td>\n",
       "      <td>4.736468</td>\n",
       "      <td>0</td>\n",
       "      <td>0</td>\n",
       "      <td>0</td>\n",
       "      <td>...</td>\n",
       "      <td>22.777818</td>\n",
       "      <td>0.658424</td>\n",
       "      <td>0</td>\n",
       "      <td>0</td>\n",
       "      <td>1</td>\n",
       "      <td>0</td>\n",
       "      <td>0</td>\n",
       "      <td>0</td>\n",
       "      <td>1</td>\n",
       "      <td>0</td>\n",
       "    </tr>\n",
       "    <tr>\n",
       "      <th>5</th>\n",
       "      <td>86</td>\n",
       "      <td>1</td>\n",
       "      <td>30.626886</td>\n",
       "      <td>0</td>\n",
       "      <td>4.140144</td>\n",
       "      <td>0.211062</td>\n",
       "      <td>7.261953</td>\n",
       "      <td>0</td>\n",
       "      <td>0</td>\n",
       "      <td>1</td>\n",
       "      <td>...</td>\n",
       "      <td>27.517529</td>\n",
       "      <td>5.510144</td>\n",
       "      <td>0</td>\n",
       "      <td>0</td>\n",
       "      <td>1</td>\n",
       "      <td>0</td>\n",
       "      <td>0</td>\n",
       "      <td>0</td>\n",
       "      <td>0</td>\n",
       "      <td>0</td>\n",
       "    </tr>\n",
       "    <tr>\n",
       "      <th>928</th>\n",
       "      <td>71</td>\n",
       "      <td>1</td>\n",
       "      <td>15.008851</td>\n",
       "      <td>0</td>\n",
       "      <td>3.169215</td>\n",
       "      <td>5.863132</td>\n",
       "      <td>7.614766</td>\n",
       "      <td>1</td>\n",
       "      <td>0</td>\n",
       "      <td>0</td>\n",
       "      <td>...</td>\n",
       "      <td>27.869324</td>\n",
       "      <td>6.426549</td>\n",
       "      <td>0</td>\n",
       "      <td>1</td>\n",
       "      <td>1</td>\n",
       "      <td>0</td>\n",
       "      <td>0</td>\n",
       "      <td>1</td>\n",
       "      <td>0</td>\n",
       "      <td>0</td>\n",
       "    </tr>\n",
       "  </tbody>\n",
       "</table>\n",
       "<p>5 rows × 23 columns</p>\n",
       "</div>"
      ],
      "text/plain": [
       "      Age  Gender        BMI  Smoking  AlcoholConsumption  PhysicalActivity  \\\n",
       "1757   65       0  28.761052        0            2.481086          1.086429   \n",
       "1435   65       0  28.706150        0            0.958032          9.163547   \n",
       "1402   67       1  27.790551        0           19.029173          5.284802   \n",
       "5      86       1  30.626886        0            4.140144          0.211062   \n",
       "928    71       1  15.008851        0            3.169215          5.863132   \n",
       "\n",
       "      SleepQuality  FamilyHistoryAlzheimers  CardiovascularDisease  Diabetes  \\\n",
       "1757      7.154911                        0                      0         1   \n",
       "1435      6.313219                        1                      0         0   \n",
       "1402      4.736468                        0                      0         0   \n",
       "5         7.261953                        0                      0         1   \n",
       "928       7.614766                        1                      0         0   \n",
       "\n",
       "      ...       MMSE  FunctionalAssessment  MemoryComplaints  \\\n",
       "1757  ...   3.002978              5.217427                 0   \n",
       "1435  ...  26.003327              8.843941                 1   \n",
       "1402  ...  22.777818              0.658424                 0   \n",
       "5     ...  27.517529              5.510144                 0   \n",
       "928   ...  27.869324              6.426549                 0   \n",
       "\n",
       "      BehavioralProblems  Confusion  Disorientation  PersonalityChanges  \\\n",
       "1757                   0          0               0                   1   \n",
       "1435                   0          0               1                   0   \n",
       "1402                   0          1               0                   0   \n",
       "5                      0          1               0                   0   \n",
       "928                    1          1               0                   0   \n",
       "\n",
       "      DifficultyCompletingTasks  Forgetfulness  Diagnosis  \n",
       "1757                          0              0          0  \n",
       "1435                          0              0          0  \n",
       "1402                          0              1          0  \n",
       "5                             0              0          0  \n",
       "928                           1              0          0  \n",
       "\n",
       "[5 rows x 23 columns]"
      ]
     },
     "execution_count": 30,
     "metadata": {},
     "output_type": "execute_result"
    }
   ],
   "source": [
    "undersampled_df.head()"
   ]
  },
  {
   "cell_type": "code",
   "execution_count": 31,
   "id": "6fd7f13e",
   "metadata": {
    "execution": {
     "iopub.execute_input": "2025-02-20T09:14:28.361758Z",
     "iopub.status.busy": "2025-02-20T09:14:28.361425Z",
     "iopub.status.idle": "2025-02-20T09:14:28.370353Z",
     "shell.execute_reply": "2025-02-20T09:14:28.369304Z"
    },
    "papermill": {
     "duration": 0.043079,
     "end_time": "2025-02-20T09:14:28.372141",
     "exception": false,
     "start_time": "2025-02-20T09:14:28.329062",
     "status": "completed"
    },
    "tags": []
   },
   "outputs": [],
   "source": [
    "ufeatures = undersampled_df.drop(['Diagnosis'], axis=1)\n",
    "ulabel = undersampled_df['Diagnosis']\n",
    "xtrain, xtest, ytrain, ytest = train_test_split(ufeatures, ulabel, test_size=0.2, random_state=42, stratify=ulabel)"
   ]
  },
  {
   "cell_type": "code",
   "execution_count": 32,
   "id": "09ca4c0d",
   "metadata": {
    "execution": {
     "iopub.execute_input": "2025-02-20T09:14:28.436206Z",
     "iopub.status.busy": "2025-02-20T09:14:28.435853Z",
     "iopub.status.idle": "2025-02-20T09:14:35.839614Z",
     "shell.execute_reply": "2025-02-20T09:14:35.838456Z"
    },
    "papermill": {
     "duration": 7.438763,
     "end_time": "2025-02-20T09:14:35.841504",
     "exception": false,
     "start_time": "2025-02-20T09:14:28.402741",
     "status": "completed"
    },
    "tags": []
   },
   "outputs": [
    {
     "name": "stdout",
     "output_type": "stream",
     "text": [
      "Epoch 1/50\n"
     ]
    },
    {
     "name": "stderr",
     "output_type": "stream",
     "text": [
      "/usr/local/lib/python3.10/dist-packages/keras/src/layers/core/dense.py:87: UserWarning: Do not pass an `input_shape`/`input_dim` argument to a layer. When using Sequential models, prefer using an `Input(shape)` object as the first layer in the model instead.\n",
      "  super().__init__(activity_regularizer=activity_regularizer, **kwargs)\n"
     ]
    },
    {
     "name": "stdout",
     "output_type": "stream",
     "text": [
      "\u001b[1m38/38\u001b[0m \u001b[32m━━━━━━━━━━━━━━━━━━━━\u001b[0m\u001b[37m\u001b[0m \u001b[1m1s\u001b[0m 7ms/step - accuracy: 0.4975 - loss: 1.2499 - val_accuracy: 0.5132 - val_loss: 0.8721\n",
      "Epoch 2/50\n",
      "\u001b[1m38/38\u001b[0m \u001b[32m━━━━━━━━━━━━━━━━━━━━\u001b[0m\u001b[37m\u001b[0m \u001b[1m0s\u001b[0m 3ms/step - accuracy: 0.5826 - loss: 0.7017 - val_accuracy: 0.7171 - val_loss: 0.5809\n",
      "Epoch 3/50\n",
      "\u001b[1m38/38\u001b[0m \u001b[32m━━━━━━━━━━━━━━━━━━━━\u001b[0m\u001b[37m\u001b[0m \u001b[1m0s\u001b[0m 3ms/step - accuracy: 0.7221 - loss: 0.5626 - val_accuracy: 0.7763 - val_loss: 0.5669\n",
      "Epoch 4/50\n",
      "\u001b[1m38/38\u001b[0m \u001b[32m━━━━━━━━━━━━━━━━━━━━\u001b[0m\u001b[37m\u001b[0m \u001b[1m0s\u001b[0m 2ms/step - accuracy: 0.7329 - loss: 0.5467 - val_accuracy: 0.7204 - val_loss: 0.5504\n",
      "Epoch 5/50\n",
      "\u001b[1m38/38\u001b[0m \u001b[32m━━━━━━━━━━━━━━━━━━━━\u001b[0m\u001b[37m\u001b[0m \u001b[1m0s\u001b[0m 2ms/step - accuracy: 0.7464 - loss: 0.5280 - val_accuracy: 0.7730 - val_loss: 0.5193\n",
      "Epoch 6/50\n",
      "\u001b[1m38/38\u001b[0m \u001b[32m━━━━━━━━━━━━━━━━━━━━\u001b[0m\u001b[37m\u001b[0m \u001b[1m0s\u001b[0m 3ms/step - accuracy: 0.7464 - loss: 0.5152 - val_accuracy: 0.7072 - val_loss: 0.5668\n",
      "Epoch 7/50\n",
      "\u001b[1m38/38\u001b[0m \u001b[32m━━━━━━━━━━━━━━━━━━━━\u001b[0m\u001b[37m\u001b[0m \u001b[1m0s\u001b[0m 3ms/step - accuracy: 0.7387 - loss: 0.4995 - val_accuracy: 0.7730 - val_loss: 0.5046\n",
      "Epoch 8/50\n",
      "\u001b[1m38/38\u001b[0m \u001b[32m━━━━━━━━━━━━━━━━━━━━\u001b[0m\u001b[37m\u001b[0m \u001b[1m0s\u001b[0m 2ms/step - accuracy: 0.7723 - loss: 0.4787 - val_accuracy: 0.7895 - val_loss: 0.5021\n",
      "Epoch 9/50\n",
      "\u001b[1m38/38\u001b[0m \u001b[32m━━━━━━━━━━━━━━━━━━━━\u001b[0m\u001b[37m\u001b[0m \u001b[1m0s\u001b[0m 3ms/step - accuracy: 0.7765 - loss: 0.4788 - val_accuracy: 0.6612 - val_loss: 0.6283\n",
      "Epoch 10/50\n",
      "\u001b[1m38/38\u001b[0m \u001b[32m━━━━━━━━━━━━━━━━━━━━\u001b[0m\u001b[37m\u001b[0m \u001b[1m0s\u001b[0m 3ms/step - accuracy: 0.7666 - loss: 0.4721 - val_accuracy: 0.7697 - val_loss: 0.5303\n",
      "Epoch 11/50\n",
      "\u001b[1m38/38\u001b[0m \u001b[32m━━━━━━━━━━━━━━━━━━━━\u001b[0m\u001b[37m\u001b[0m \u001b[1m0s\u001b[0m 3ms/step - accuracy: 0.7744 - loss: 0.4526 - val_accuracy: 0.7138 - val_loss: 0.5621\n",
      "Epoch 12/50\n",
      "\u001b[1m38/38\u001b[0m \u001b[32m━━━━━━━━━━━━━━━━━━━━\u001b[0m\u001b[37m\u001b[0m \u001b[1m0s\u001b[0m 2ms/step - accuracy: 0.7588 - loss: 0.4761 - val_accuracy: 0.6842 - val_loss: 0.6326\n",
      "Epoch 13/50\n",
      "\u001b[1m38/38\u001b[0m \u001b[32m━━━━━━━━━━━━━━━━━━━━\u001b[0m\u001b[37m\u001b[0m \u001b[1m0s\u001b[0m 2ms/step - accuracy: 0.7848 - loss: 0.4504 - val_accuracy: 0.7632 - val_loss: 0.4905\n",
      "Epoch 14/50\n",
      "\u001b[1m38/38\u001b[0m \u001b[32m━━━━━━━━━━━━━━━━━━━━\u001b[0m\u001b[37m\u001b[0m \u001b[1m0s\u001b[0m 2ms/step - accuracy: 0.8240 - loss: 0.4370 - val_accuracy: 0.7533 - val_loss: 0.5369\n",
      "Epoch 15/50\n",
      "\u001b[1m38/38\u001b[0m \u001b[32m━━━━━━━━━━━━━━━━━━━━\u001b[0m\u001b[37m\u001b[0m \u001b[1m0s\u001b[0m 2ms/step - accuracy: 0.7981 - loss: 0.4342 - val_accuracy: 0.7664 - val_loss: 0.4933\n",
      "Epoch 16/50\n",
      "\u001b[1m38/38\u001b[0m \u001b[32m━━━━━━━━━━━━━━━━━━━━\u001b[0m\u001b[37m\u001b[0m \u001b[1m0s\u001b[0m 2ms/step - accuracy: 0.8092 - loss: 0.4188 - val_accuracy: 0.7401 - val_loss: 0.5122\n",
      "Epoch 17/50\n",
      "\u001b[1m38/38\u001b[0m \u001b[32m━━━━━━━━━━━━━━━━━━━━\u001b[0m\u001b[37m\u001b[0m \u001b[1m0s\u001b[0m 2ms/step - accuracy: 0.7612 - loss: 0.4765 - val_accuracy: 0.7401 - val_loss: 0.5162\n",
      "Epoch 18/50\n",
      "\u001b[1m38/38\u001b[0m \u001b[32m━━━━━━━━━━━━━━━━━━━━\u001b[0m\u001b[37m\u001b[0m \u001b[1m0s\u001b[0m 2ms/step - accuracy: 0.8030 - loss: 0.4568 - val_accuracy: 0.7664 - val_loss: 0.5269\n",
      "Epoch 19/50\n",
      "\u001b[1m38/38\u001b[0m \u001b[32m━━━━━━━━━━━━━━━━━━━━\u001b[0m\u001b[37m\u001b[0m \u001b[1m0s\u001b[0m 2ms/step - accuracy: 0.7974 - loss: 0.4417 - val_accuracy: 0.7697 - val_loss: 0.5114\n",
      "Epoch 20/50\n",
      "\u001b[1m38/38\u001b[0m \u001b[32m━━━━━━━━━━━━━━━━━━━━\u001b[0m\u001b[37m\u001b[0m \u001b[1m0s\u001b[0m 2ms/step - accuracy: 0.7896 - loss: 0.4393 - val_accuracy: 0.7566 - val_loss: 0.5436\n",
      "Epoch 21/50\n",
      "\u001b[1m38/38\u001b[0m \u001b[32m━━━━━━━━━━━━━━━━━━━━\u001b[0m\u001b[37m\u001b[0m \u001b[1m0s\u001b[0m 2ms/step - accuracy: 0.8018 - loss: 0.4350 - val_accuracy: 0.7204 - val_loss: 0.5816\n",
      "Epoch 22/50\n",
      "\u001b[1m38/38\u001b[0m \u001b[32m━━━━━━━━━━━━━━━━━━━━\u001b[0m\u001b[37m\u001b[0m \u001b[1m0s\u001b[0m 2ms/step - accuracy: 0.8371 - loss: 0.3862 - val_accuracy: 0.7829 - val_loss: 0.4990\n",
      "Epoch 23/50\n",
      "\u001b[1m38/38\u001b[0m \u001b[32m━━━━━━━━━━━━━━━━━━━━\u001b[0m\u001b[37m\u001b[0m \u001b[1m0s\u001b[0m 2ms/step - accuracy: 0.8199 - loss: 0.3862 - val_accuracy: 0.7730 - val_loss: 0.5086\n",
      "Epoch 24/50\n",
      "\u001b[1m38/38\u001b[0m \u001b[32m━━━━━━━━━━━━━━━━━━━━\u001b[0m\u001b[37m\u001b[0m \u001b[1m0s\u001b[0m 2ms/step - accuracy: 0.8087 - loss: 0.4146 - val_accuracy: 0.7204 - val_loss: 0.5283\n",
      "Epoch 25/50\n",
      "\u001b[1m38/38\u001b[0m \u001b[32m━━━━━━━━━━━━━━━━━━━━\u001b[0m\u001b[37m\u001b[0m \u001b[1m0s\u001b[0m 2ms/step - accuracy: 0.8128 - loss: 0.4099 - val_accuracy: 0.7237 - val_loss: 0.5514\n",
      "Epoch 26/50\n",
      "\u001b[1m38/38\u001b[0m \u001b[32m━━━━━━━━━━━━━━━━━━━━\u001b[0m\u001b[37m\u001b[0m \u001b[1m0s\u001b[0m 3ms/step - accuracy: 0.7804 - loss: 0.4468 - val_accuracy: 0.7467 - val_loss: 0.5115\n",
      "Epoch 27/50\n",
      "\u001b[1m38/38\u001b[0m \u001b[32m━━━━━━━━━━━━━━━━━━━━\u001b[0m\u001b[37m\u001b[0m \u001b[1m0s\u001b[0m 3ms/step - accuracy: 0.8274 - loss: 0.4098 - val_accuracy: 0.7664 - val_loss: 0.5359\n",
      "Epoch 28/50\n",
      "\u001b[1m38/38\u001b[0m \u001b[32m━━━━━━━━━━━━━━━━━━━━\u001b[0m\u001b[37m\u001b[0m \u001b[1m0s\u001b[0m 2ms/step - accuracy: 0.8154 - loss: 0.4199 - val_accuracy: 0.7533 - val_loss: 0.5060\n",
      "Epoch 29/50\n",
      "\u001b[1m38/38\u001b[0m \u001b[32m━━━━━━━━━━━━━━━━━━━━\u001b[0m\u001b[37m\u001b[0m \u001b[1m0s\u001b[0m 2ms/step - accuracy: 0.7941 - loss: 0.4288 - val_accuracy: 0.7632 - val_loss: 0.5112\n",
      "Epoch 30/50\n",
      "\u001b[1m38/38\u001b[0m \u001b[32m━━━━━━━━━━━━━━━━━━━━\u001b[0m\u001b[37m\u001b[0m \u001b[1m0s\u001b[0m 2ms/step - accuracy: 0.7766 - loss: 0.4649 - val_accuracy: 0.7007 - val_loss: 0.5660\n",
      "Epoch 31/50\n",
      "\u001b[1m38/38\u001b[0m \u001b[32m━━━━━━━━━━━━━━━━━━━━\u001b[0m\u001b[37m\u001b[0m \u001b[1m0s\u001b[0m 2ms/step - accuracy: 0.8211 - loss: 0.4152 - val_accuracy: 0.7401 - val_loss: 0.5912\n",
      "Epoch 32/50\n",
      "\u001b[1m38/38\u001b[0m \u001b[32m━━━━━━━━━━━━━━━━━━━━\u001b[0m\u001b[37m\u001b[0m \u001b[1m0s\u001b[0m 2ms/step - accuracy: 0.7904 - loss: 0.4540 - val_accuracy: 0.7401 - val_loss: 0.5297\n",
      "Epoch 33/50\n",
      "\u001b[1m38/38\u001b[0m \u001b[32m━━━━━━━━━━━━━━━━━━━━\u001b[0m\u001b[37m\u001b[0m \u001b[1m0s\u001b[0m 2ms/step - accuracy: 0.8141 - loss: 0.3812 - val_accuracy: 0.7401 - val_loss: 0.5230\n",
      "Epoch 34/50\n",
      "\u001b[1m38/38\u001b[0m \u001b[32m━━━━━━━━━━━━━━━━━━━━\u001b[0m\u001b[37m\u001b[0m \u001b[1m0s\u001b[0m 3ms/step - accuracy: 0.7924 - loss: 0.4457 - val_accuracy: 0.7270 - val_loss: 0.5833\n",
      "Epoch 35/50\n",
      "\u001b[1m38/38\u001b[0m \u001b[32m━━━━━━━━━━━━━━━━━━━━\u001b[0m\u001b[37m\u001b[0m \u001b[1m0s\u001b[0m 2ms/step - accuracy: 0.8051 - loss: 0.4147 - val_accuracy: 0.7401 - val_loss: 0.5358\n",
      "Epoch 36/50\n",
      "\u001b[1m38/38\u001b[0m \u001b[32m━━━━━━━━━━━━━━━━━━━━\u001b[0m\u001b[37m\u001b[0m \u001b[1m0s\u001b[0m 3ms/step - accuracy: 0.8328 - loss: 0.3748 - val_accuracy: 0.7664 - val_loss: 0.5144\n",
      "Epoch 37/50\n",
      "\u001b[1m38/38\u001b[0m \u001b[32m━━━━━━━━━━━━━━━━━━━━\u001b[0m\u001b[37m\u001b[0m \u001b[1m0s\u001b[0m 2ms/step - accuracy: 0.8230 - loss: 0.3807 - val_accuracy: 0.7500 - val_loss: 0.5622\n",
      "Epoch 38/50\n",
      "\u001b[1m38/38\u001b[0m \u001b[32m━━━━━━━━━━━━━━━━━━━━\u001b[0m\u001b[37m\u001b[0m \u001b[1m0s\u001b[0m 2ms/step - accuracy: 0.8094 - loss: 0.4128 - val_accuracy: 0.7401 - val_loss: 0.5434\n",
      "Epoch 39/50\n",
      "\u001b[1m38/38\u001b[0m \u001b[32m━━━━━━━━━━━━━━━━━━━━\u001b[0m\u001b[37m\u001b[0m \u001b[1m0s\u001b[0m 2ms/step - accuracy: 0.8201 - loss: 0.3911 - val_accuracy: 0.7533 - val_loss: 0.5406\n",
      "Epoch 40/50\n",
      "\u001b[1m38/38\u001b[0m \u001b[32m━━━━━━━━━━━━━━━━━━━━\u001b[0m\u001b[37m\u001b[0m \u001b[1m0s\u001b[0m 2ms/step - accuracy: 0.8336 - loss: 0.3906 - val_accuracy: 0.7599 - val_loss: 0.5341\n",
      "Epoch 41/50\n",
      "\u001b[1m38/38\u001b[0m \u001b[32m━━━━━━━━━━━━━━━━━━━━\u001b[0m\u001b[37m\u001b[0m \u001b[1m0s\u001b[0m 3ms/step - accuracy: 0.7921 - loss: 0.4430 - val_accuracy: 0.6776 - val_loss: 0.5846\n",
      "Epoch 42/50\n",
      "\u001b[1m38/38\u001b[0m \u001b[32m━━━━━━━━━━━━━━━━━━━━\u001b[0m\u001b[37m\u001b[0m \u001b[1m0s\u001b[0m 2ms/step - accuracy: 0.8397 - loss: 0.3674 - val_accuracy: 0.7368 - val_loss: 0.5516\n",
      "Epoch 43/50\n",
      "\u001b[1m38/38\u001b[0m \u001b[32m━━━━━━━━━━━━━━━━━━━━\u001b[0m\u001b[37m\u001b[0m \u001b[1m0s\u001b[0m 3ms/step - accuracy: 0.8362 - loss: 0.3641 - val_accuracy: 0.7237 - val_loss: 0.5657\n",
      "Epoch 44/50\n",
      "\u001b[1m38/38\u001b[0m \u001b[32m━━━━━━━━━━━━━━━━━━━━\u001b[0m\u001b[37m\u001b[0m \u001b[1m0s\u001b[0m 2ms/step - accuracy: 0.8316 - loss: 0.3709 - val_accuracy: 0.7303 - val_loss: 0.5651\n",
      "Epoch 45/50\n",
      "\u001b[1m38/38\u001b[0m \u001b[32m━━━━━━━━━━━━━━━━━━━━\u001b[0m\u001b[37m\u001b[0m \u001b[1m0s\u001b[0m 2ms/step - accuracy: 0.8112 - loss: 0.3987 - val_accuracy: 0.7401 - val_loss: 0.5486\n",
      "Epoch 46/50\n",
      "\u001b[1m38/38\u001b[0m \u001b[32m━━━━━━━━━━━━━━━━━━━━\u001b[0m\u001b[37m\u001b[0m \u001b[1m0s\u001b[0m 2ms/step - accuracy: 0.8379 - loss: 0.3936 - val_accuracy: 0.7566 - val_loss: 0.5222\n",
      "Epoch 47/50\n",
      "\u001b[1m38/38\u001b[0m \u001b[32m━━━━━━━━━━━━━━━━━━━━\u001b[0m\u001b[37m\u001b[0m \u001b[1m0s\u001b[0m 2ms/step - accuracy: 0.8275 - loss: 0.3769 - val_accuracy: 0.7434 - val_loss: 0.5502\n",
      "Epoch 48/50\n",
      "\u001b[1m38/38\u001b[0m \u001b[32m━━━━━━━━━━━━━━━━━━━━\u001b[0m\u001b[37m\u001b[0m \u001b[1m0s\u001b[0m 2ms/step - accuracy: 0.8290 - loss: 0.3813 - val_accuracy: 0.7138 - val_loss: 0.6671\n",
      "Epoch 49/50\n",
      "\u001b[1m38/38\u001b[0m \u001b[32m━━━━━━━━━━━━━━━━━━━━\u001b[0m\u001b[37m\u001b[0m \u001b[1m0s\u001b[0m 2ms/step - accuracy: 0.8088 - loss: 0.4192 - val_accuracy: 0.7632 - val_loss: 0.5444\n",
      "Epoch 50/50\n",
      "\u001b[1m38/38\u001b[0m \u001b[32m━━━━━━━━━━━━━━━━━━━━\u001b[0m\u001b[37m\u001b[0m \u001b[1m0s\u001b[0m 3ms/step - accuracy: 0.8580 - loss: 0.3397 - val_accuracy: 0.7566 - val_loss: 0.5379\n"
     ]
    },
    {
     "data": {
      "text/plain": [
       "<keras.src.callbacks.history.History at 0x79ab28be6b30>"
      ]
     },
     "execution_count": 32,
     "metadata": {},
     "output_type": "execute_result"
    }
   ],
   "source": [
    "undersampled_model = keras.Sequential([\n",
    "    keras.layers.Dense(128, activation='relu', input_shape=(xtrain.shape[1],)),\n",
    "    keras.layers.Dense(64, activation='relu'),\n",
    "    keras.layers.Dense(32, activation='relu'),\n",
    "    keras.layers.Dense(1, activation='sigmoid')\n",
    "])\n",
    "undersampled_model.compile(optimizer='adam', loss='binary_crossentropy', metrics=['accuracy'])\n",
    "undersampled_model.fit(xtrain, ytrain, epochs=50, validation_data=(xtest, ytest))"
   ]
  },
  {
   "cell_type": "markdown",
   "id": "6d837b8e",
   "metadata": {
    "papermill": {
     "duration": 0.042942,
     "end_time": "2025-02-20T09:14:35.927905",
     "exception": false,
     "start_time": "2025-02-20T09:14:35.884963",
     "status": "completed"
    },
    "tags": []
   },
   "source": [
    "## Accuracy"
   ]
  },
  {
   "cell_type": "code",
   "execution_count": 33,
   "id": "9a15d7f4",
   "metadata": {
    "execution": {
     "iopub.execute_input": "2025-02-20T09:14:36.013557Z",
     "iopub.status.busy": "2025-02-20T09:14:36.013207Z",
     "iopub.status.idle": "2025-02-20T09:14:36.109038Z",
     "shell.execute_reply": "2025-02-20T09:14:36.107871Z"
    },
    "papermill": {
     "duration": 0.140477,
     "end_time": "2025-02-20T09:14:36.110621",
     "exception": false,
     "start_time": "2025-02-20T09:14:35.970144",
     "status": "completed"
    },
    "tags": []
   },
   "outputs": [
    {
     "name": "stdout",
     "output_type": "stream",
     "text": [
      "10/10 - 0s - 3ms/step - accuracy: 0.7566 - loss: 0.5379\n"
     ]
    },
    {
     "data": {
      "text/plain": [
       "[0.5379422903060913, 0.7565789222717285]"
      ]
     },
     "execution_count": 33,
     "metadata": {},
     "output_type": "execute_result"
    }
   ],
   "source": [
    "undersampled_model.evaluate(xtest, ytest, verbose=2)"
   ]
  },
  {
   "cell_type": "code",
   "execution_count": 34,
   "id": "bcd1c4de",
   "metadata": {
    "execution": {
     "iopub.execute_input": "2025-02-20T09:14:36.200598Z",
     "iopub.status.busy": "2025-02-20T09:14:36.200258Z",
     "iopub.status.idle": "2025-02-20T09:14:36.291131Z",
     "shell.execute_reply": "2025-02-20T09:14:36.289944Z"
    },
    "papermill": {
     "duration": 0.13557,
     "end_time": "2025-02-20T09:14:36.292977",
     "exception": false,
     "start_time": "2025-02-20T09:14:36.157407",
     "status": "completed"
    },
    "tags": []
   },
   "outputs": [
    {
     "name": "stdout",
     "output_type": "stream",
     "text": [
      "\u001b[1m10/10\u001b[0m \u001b[32m━━━━━━━━━━━━━━━━━━━━\u001b[0m\u001b[37m\u001b[0m \u001b[1m0s\u001b[0m 1ms/step \n"
     ]
    }
   ],
   "source": [
    "ypred = imbal_model.predict(xtest)"
   ]
  },
  {
   "cell_type": "code",
   "execution_count": 35,
   "id": "14fa3240",
   "metadata": {
    "execution": {
     "iopub.execute_input": "2025-02-20T09:14:36.377923Z",
     "iopub.status.busy": "2025-02-20T09:14:36.377544Z",
     "iopub.status.idle": "2025-02-20T09:14:36.381837Z",
     "shell.execute_reply": "2025-02-20T09:14:36.380920Z"
    },
    "papermill": {
     "duration": 0.048662,
     "end_time": "2025-02-20T09:14:36.383413",
     "exception": false,
     "start_time": "2025-02-20T09:14:36.334751",
     "status": "completed"
    },
    "tags": []
   },
   "outputs": [],
   "source": [
    "y_pred = (ypred > .5).astype(int)  # Convert probabilities to binary"
   ]
  },
  {
   "cell_type": "code",
   "execution_count": 36,
   "id": "b2c75aa7",
   "metadata": {
    "execution": {
     "iopub.execute_input": "2025-02-20T09:14:36.467647Z",
     "iopub.status.busy": "2025-02-20T09:14:36.467311Z",
     "iopub.status.idle": "2025-02-20T09:14:36.475017Z",
     "shell.execute_reply": "2025-02-20T09:14:36.473906Z"
    },
    "papermill": {
     "duration": 0.051917,
     "end_time": "2025-02-20T09:14:36.476675",
     "exception": false,
     "start_time": "2025-02-20T09:14:36.424758",
     "status": "completed"
    },
    "tags": []
   },
   "outputs": [
    {
     "data": {
      "text/plain": [
       "0.8322368421052632"
      ]
     },
     "execution_count": 36,
     "metadata": {},
     "output_type": "execute_result"
    }
   ],
   "source": [
    "accuracy_score(ytest, y_pred)"
   ]
  },
  {
   "cell_type": "code",
   "execution_count": 37,
   "id": "ab4a73a7",
   "metadata": {
    "execution": {
     "iopub.execute_input": "2025-02-20T09:14:36.561828Z",
     "iopub.status.busy": "2025-02-20T09:14:36.561452Z",
     "iopub.status.idle": "2025-02-20T09:14:36.574618Z",
     "shell.execute_reply": "2025-02-20T09:14:36.573271Z"
    },
    "papermill": {
     "duration": 0.057688,
     "end_time": "2025-02-20T09:14:36.576371",
     "exception": false,
     "start_time": "2025-02-20T09:14:36.518683",
     "status": "completed"
    },
    "tags": []
   },
   "outputs": [
    {
     "name": "stdout",
     "output_type": "stream",
     "text": [
      "              precision    recall  f1-score   support\n",
      "\n",
      "           0       0.80      0.89      0.84       152\n",
      "           1       0.88      0.77      0.82       152\n",
      "\n",
      "    accuracy                           0.83       304\n",
      "   macro avg       0.84      0.83      0.83       304\n",
      "weighted avg       0.84      0.83      0.83       304\n",
      "\n"
     ]
    }
   ],
   "source": [
    "# Classification report\n",
    "print(classification_report(ytest, y_pred))"
   ]
  },
  {
   "cell_type": "code",
   "execution_count": 38,
   "id": "3cc30c0d",
   "metadata": {
    "execution": {
     "iopub.execute_input": "2025-02-20T09:14:36.661059Z",
     "iopub.status.busy": "2025-02-20T09:14:36.660641Z",
     "iopub.status.idle": "2025-02-20T09:14:36.955476Z",
     "shell.execute_reply": "2025-02-20T09:14:36.954353Z"
    },
    "papermill": {
     "duration": 0.338926,
     "end_time": "2025-02-20T09:14:36.957284",
     "exception": false,
     "start_time": "2025-02-20T09:14:36.618358",
     "status": "completed"
    },
    "tags": []
   },
   "outputs": [
    {
     "data": {
      "text/plain": [
       "<Axes: >"
      ]
     },
     "execution_count": 38,
     "metadata": {},
     "output_type": "execute_result"
    },
    {
     "data": {
      "image/png": "[encoded data removed]",
      "text/plain": [
       "<Figure size 1200x1000 with 2 Axes>"
      ]
     },
     "metadata": {},
     "output_type": "display_data"
    }
   ],
   "source": [
    "# Confusion matrix\n",
    "sns.set(rc={\"figure.figsize\":(12, 10)})\n",
    "cm = confusion_matrix(ytest, y_pred)\n",
    "sns.heatmap(cm, annot=True, fmt=\"d\", cmap=\"Blues\")"
   ]
  },
  {
   "cell_type": "code",
   "execution_count": null,
   "id": "0d7f3c37",
   "metadata": {
    "papermill": {
     "duration": 0.042071,
     "end_time": "2025-02-20T09:14:37.041671",
     "exception": false,
     "start_time": "2025-02-20T09:14:36.999600",
     "status": "completed"
    },
    "tags": []
   },
   "outputs": [],
   "source": []
  }
 ],
 "metadata": {
  "kaggle": {
   "accelerator": "none",
   "dataSources": [
    {
     "datasetId": 5194699,
     "sourceId": 8668279,
     "sourceType": "datasetVersion"
    }
   ],
   "dockerImageVersionId": 30886,
   "isGpuEnabled": false,
   "isInternetEnabled": true,
   "language": "python",
   "sourceType": "notebook"
  },
  "kernelspec": {
   "display_name": "Python 3",
   "language": "python",
   "name": "python3"
  },
  "language_info": {
   "codemirror_mode": {
    "name": "ipython",
    "version": 3
   },
   "file_extension": ".py",
   "mimetype": "text/x-python",
   "name": "python",
   "nbconvert_exporter": "python",
   "pygments_lexer": "ipython3",
   "version": "3.10.12"
  },
  "papermill": {
   "default_parameters": {},
   "duration": 62.660971,
   "end_time": "2025-02-20T09:14:39.919390",
   "environment_variables": {},
   "exception": null,
   "input_path": "__notebook__.ipynb",
   "output_path": "__notebook__.ipynb",
   "parameters": {},
   "start_time": "2025-02-20T09:13:37.258419",
   "version": "2.6.0"
  }
 },
 "nbformat": 4,
 "nbformat_minor": 5
}
